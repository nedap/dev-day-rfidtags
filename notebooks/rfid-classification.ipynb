{
 "cells": [
  {
   "cell_type": "markdown",
   "metadata": {},
   "source": [
    "# Nedap Dev Day 2019 - Retail RFID Label Reading"
   ]
  },
  {
   "cell_type": "markdown",
   "metadata": {},
   "source": [
    "## Problem Description\n",
    "\n",
    "Suppose we scan a box with RFID labels for 30 seconds in an unclean environment. Create a machine learning model can read the box without including the rest of the environment."
   ]
  },
  {
   "cell_type": "markdown",
   "metadata": {},
   "source": [
    "## Machine Learning Pipeline\n",
    "\n",
    "Below you can see a typical machine learning (ML) pipeline. In this hackathon, we already retrieved the data for you. Therefore, you you will work on the following parts:\n",
    "\n",
    "* **Data preparation.** How can we transform the RFID readings in such a way that we can train a machine learning classifier to distinguish between labels inside/outside a box.\n",
    "* **Modeling.** What is a suitable ML method to classify RFID readings.\n",
    "* **Evaluation.** How well is the method working?\n",
    "\n"
   ]
  },
  {
   "cell_type": "markdown",
   "metadata": {},
   "source": [
    "![Machine Learning Pipeline](ml-pipeline.png)"
   ]
  },
  {
   "cell_type": "markdown",
   "metadata": {
    "toc": true
   },
   "source": [
    "<h1>Table of Contents<span class=\"tocSkip\"></span></h1>\n",
    "<div class=\"toc\"><ul class=\"toc-item\"><li><span><a href=\"#Problem-Description\" data-toc-modified-id=\"Problem-Description-1\"><span class=\"toc-item-num\">1&nbsp;&nbsp;</span>Problem Description</a></span></li><li><span><a href=\"#Machine-Learning-Pipeline\" data-toc-modified-id=\"Machine-Learning-Pipeline-2\"><span class=\"toc-item-num\">2&nbsp;&nbsp;</span>Machine Learning Pipeline</a></span></li><li><span><a href=\"#Notebook-Setup\" data-toc-modified-id=\"Notebook-Setup-3\"><span class=\"toc-item-num\">3&nbsp;&nbsp;</span>Notebook Setup</a></span><ul class=\"toc-item\"><li><span><a href=\"#Import-Packages\" data-toc-modified-id=\"Import-Packages-3.1\"><span class=\"toc-item-num\">3.1&nbsp;&nbsp;</span>Import Packages</a></span></li><li><span><a href=\"#Utility-Functions\" data-toc-modified-id=\"Utility-Functions-3.2\"><span class=\"toc-item-num\">3.2&nbsp;&nbsp;</span>Utility Functions</a></span></li></ul></li><li><span><a href=\"#Load-Data\" data-toc-modified-id=\"Load-Data-4\"><span class=\"toc-item-num\">4&nbsp;&nbsp;</span>Load Data</a></span><ul class=\"toc-item\"><li><span><a href=\"#Load-Clean-EPC-Codes-(the-RFID-tag-labels-inside-the-box)\" data-toc-modified-id=\"Load-Clean-EPC-Codes-(the-RFID-tag-labels-inside-the-box)-4.1\"><span class=\"toc-item-num\">4.1&nbsp;&nbsp;</span>Load Clean EPC Codes (the RFID tag labels inside the box)</a></span></li><li><span><a href=\"#Load-All-Samples\" data-toc-modified-id=\"Load-All-Samples-4.2\"><span class=\"toc-item-num\">4.2&nbsp;&nbsp;</span>Load All Samples</a></span></li></ul></li><li><span><a href=\"#Train/Test-Split\" data-toc-modified-id=\"Train/Test-Split-5\"><span class=\"toc-item-num\">5&nbsp;&nbsp;</span>Train/Test Split</a></span></li><li><span><a href=\"#Baseline:-classify-each-EPC-code-as-outside-of-the-box\" data-toc-modified-id=\"Baseline:-classify-each-EPC-code-as-outside-of-the-box-6\"><span class=\"toc-item-num\">6&nbsp;&nbsp;</span>Baseline: classify each EPC code as outside of the box</a></span></li><li><span><a href=\"#First-Machine-learning-classifier:-Logistic-Regression-with-two-Features\" data-toc-modified-id=\"First-Machine-learning-classifier:-Logistic-Regression-with-two-Features-7\"><span class=\"toc-item-num\">7&nbsp;&nbsp;</span>First Machine learning classifier: Logistic Regression with two Features</a></span><ul class=\"toc-item\"><li><span><a href=\"#Feature-Engineering\" data-toc-modified-id=\"Feature-Engineering-7.1\"><span class=\"toc-item-num\">7.1&nbsp;&nbsp;</span>Feature Engineering</a></span></li><li><span><a href=\"#Visualize-max(RSSI)-vs.-min(RSSI)\" data-toc-modified-id=\"Visualize-max(RSSI)-vs.-min(RSSI)-7.2\"><span class=\"toc-item-num\">7.2&nbsp;&nbsp;</span>Visualize <code>max(RSSI)</code> vs. <code>min(RSSI)</code></a></span></li><li><span><a href=\"#Scaling\" data-toc-modified-id=\"Scaling-7.3\"><span class=\"toc-item-num\">7.3&nbsp;&nbsp;</span>Scaling</a></span></li><li><span><a href=\"#Train/test-Logistic-Regression-Classifier\" data-toc-modified-id=\"Train/test-Logistic-Regression-Classifier-7.4\"><span class=\"toc-item-num\">7.4&nbsp;&nbsp;</span>Train/test Logistic Regression Classifier</a></span></li></ul></li><li><span><a href=\"#Exercise-1:-Extract-additional-features\" data-toc-modified-id=\"Exercise-1:-Extract-additional-features-8\"><span class=\"toc-item-num\">8&nbsp;&nbsp;</span>Exercise 1: Extract additional features</a></span><ul class=\"toc-item\"><li><span><a href=\"#Feature-Extraction\" data-toc-modified-id=\"Feature-Extraction-8.1\"><span class=\"toc-item-num\">8.1&nbsp;&nbsp;</span>Feature Extraction</a></span></li><li><span><a href=\"#Scaling\" data-toc-modified-id=\"Scaling-8.2\"><span class=\"toc-item-num\">8.2&nbsp;&nbsp;</span>Scaling</a></span></li><li><span><a href=\"#Train/test-Logistic-Regression-Classifier\" data-toc-modified-id=\"Train/test-Logistic-Regression-Classifier-8.3\"><span class=\"toc-item-num\">8.3&nbsp;&nbsp;</span>Train/test Logistic Regression Classifier</a></span></li></ul></li><li><span><a href=\"#Exercise-2:-Inspect-Feature-Importance\" data-toc-modified-id=\"Exercise-2:-Inspect-Feature-Importance-9\"><span class=\"toc-item-num\">9&nbsp;&nbsp;</span>Exercise 2: Inspect Feature Importance</a></span></li><li><span><a href=\"#Exercise-3:-different-classifiers\" data-toc-modified-id=\"Exercise-3:-different-classifiers-10\"><span class=\"toc-item-num\">10&nbsp;&nbsp;</span>Exercise 3: different classifiers</a></span></li></ul></div>"
   ]
  },
  {
   "cell_type": "markdown",
   "metadata": {},
   "source": [
    "## Notebook Setup"
   ]
  },
  {
   "cell_type": "markdown",
   "metadata": {},
   "source": [
    "### Import Packages"
   ]
  },
  {
   "cell_type": "code",
   "execution_count": 1,
   "metadata": {
    "ExecuteTime": {
     "end_time": "2019-12-13T12:42:37.591876Z",
     "start_time": "2019-12-13T12:42:36.613682Z"
    }
   },
   "outputs": [],
   "source": [
    "import glob\n",
    "from os.path import join, splitext\n",
    "from pprint import pprint\n",
    "\n",
    "import eli5\n",
    "import matplotlib.pyplot as plt\n",
    "import numpy as np\n",
    "import pandas as pd\n",
    "import seaborn as sns\n",
    "from sklearn import preprocessing\n",
    "from sklearn.dummy import DummyClassifier\n",
    "from sklearn.linear_model import LogisticRegression\n",
    "from sklearn.metrics import classification_report\n",
    "\n",
    "\n",
    "import warnings\n",
    "warnings.filterwarnings('ignore')"
   ]
  },
  {
   "cell_type": "markdown",
   "metadata": {},
   "source": [
    "### Utility Functions"
   ]
  },
  {
   "cell_type": "code",
   "execution_count": 2,
   "metadata": {
    "ExecuteTime": {
     "end_time": "2019-12-13T12:42:37.611811Z",
     "start_time": "2019-12-13T12:42:37.593619Z"
    }
   },
   "outputs": [],
   "source": [
    "import util\n",
    "\n",
    "def evaluate(y_true, y_pred, class_names, cm_title='Confusion matrix, without normalization'):\n",
    "    print(classification_report(y_true, y_pred, digits=4, target_names=class_names))\n",
    "    util.plot_confusion_matrix(y_true, y_pred, classes=class_names, title=cm_title)"
   ]
  },
  {
   "cell_type": "markdown",
   "metadata": {},
   "source": [
    "## Load Data\n",
    "\n",
    "### Load Clean EPC Codes (the RFID tag labels inside the box)"
   ]
  },
  {
   "cell_type": "code",
   "execution_count": 3,
   "metadata": {
    "ExecuteTime": {
     "end_time": "2019-12-13T12:42:37.773417Z",
     "start_time": "2019-12-13T12:42:37.614098Z"
    }
   },
   "outputs": [
    {
     "name": "stdout",
     "output_type": "stream",
     "text": [
      "Number of clean EPCs: 30\n",
      "{'E28011700000020D350CAB2F',\n",
      " 'E28011700000020D350CAB3F',\n",
      " 'E28011700000020D350CABCF',\n",
      " 'E28011700000020D350CABDF',\n",
      " 'E28011700000020D350CABEF',\n",
      " 'E28011700000020D350CABFF',\n",
      " 'E28011700000020D350CC400',\n",
      " 'E28011700000020D350CC58F',\n",
      " 'E28011700000020D350CC59F',\n",
      " 'E28011700000020D350CE1BE',\n",
      " 'E28011700000020EC2506857',\n",
      " 'E28011700000020EC2506956',\n",
      " 'E28011700000020EC2506957',\n",
      " 'E28011700000020EC250695C',\n",
      " 'E28011700000020EC250695D',\n",
      " 'E28011700000020EC2507056',\n",
      " 'E28011700000020EC2507057',\n",
      " 'E28011700000020EC250705C',\n",
      " 'E28011700000020EC250705D',\n",
      " 'E28011700000020EC250715C',\n",
      " 'E2806894000040020364F48D',\n",
      " 'E2806894000040020364F88D',\n",
      " 'E28068940000400203650C8D',\n",
      " 'E2806894000040020365148D',\n",
      " 'E2806894000040020365188D',\n",
      " 'E2806894000050020364F08D',\n",
      " 'E2806894000050020364FC8D',\n",
      " 'E2806894000050020365048D',\n",
      " 'E2806894000050020365088D',\n",
      " 'E2806894000050020365108D'}\n"
     ]
    }
   ],
   "source": [
    "clean_epcs = util.load_clean_epc_codes()\n",
    "\n",
    "print('Number of clean EPCs: {}'.format(len(clean_epcs)))\n",
    "pprint(clean_epcs)"
   ]
  },
  {
   "cell_type": "markdown",
   "metadata": {},
   "source": [
    "### Load All Samples"
   ]
  },
  {
   "cell_type": "code",
   "execution_count": 4,
   "metadata": {
    "ExecuteTime": {
     "end_time": "2019-12-13T12:42:38.729733Z",
     "start_time": "2019-12-13T12:42:37.776966Z"
    }
   },
   "outputs": [
    {
     "data": {
      "text/html": [
       "<div>\n",
       "<style scoped>\n",
       "    .dataframe tbody tr th:only-of-type {\n",
       "        vertical-align: middle;\n",
       "    }\n",
       "\n",
       "    .dataframe tbody tr th {\n",
       "        vertical-align: top;\n",
       "    }\n",
       "\n",
       "    .dataframe thead th {\n",
       "        text-align: right;\n",
       "    }\n",
       "</style>\n",
       "<table border=\"1\" class=\"dataframe\">\n",
       "  <thead>\n",
       "    <tr style=\"text-align: right;\">\n",
       "      <th></th>\n",
       "      <th>beam_id</th>\n",
       "      <th>epc</th>\n",
       "      <th>frequency</th>\n",
       "      <th>in_box</th>\n",
       "      <th>labelset_id</th>\n",
       "      <th>location_id</th>\n",
       "      <th>phase</th>\n",
       "      <th>rssi</th>\n",
       "      <th>sample_id</th>\n",
       "      <th>time</th>\n",
       "    </tr>\n",
       "  </thead>\n",
       "  <tbody>\n",
       "    <tr>\n",
       "      <th>0</th>\n",
       "      <td>0</td>\n",
       "      <td>30347A12301D8FC59682FEFA</td>\n",
       "      <td>866900000</td>\n",
       "      <td>0</td>\n",
       "      <td>labelset3</td>\n",
       "      <td>samples_location1</td>\n",
       "      <td>15</td>\n",
       "      <td>-649</td>\n",
       "      <td>sample4</td>\n",
       "      <td>1.572351e+09</td>\n",
       "    </tr>\n",
       "    <tr>\n",
       "      <th>1</th>\n",
       "      <td>0</td>\n",
       "      <td>30347A12301D87C59682FF25</td>\n",
       "      <td>866900000</td>\n",
       "      <td>0</td>\n",
       "      <td>labelset3</td>\n",
       "      <td>samples_location1</td>\n",
       "      <td>55</td>\n",
       "      <td>-687</td>\n",
       "      <td>sample4</td>\n",
       "      <td>1.572351e+09</td>\n",
       "    </tr>\n",
       "    <tr>\n",
       "      <th>2</th>\n",
       "      <td>0</td>\n",
       "      <td>30347A12301D56459682FF93</td>\n",
       "      <td>866900000</td>\n",
       "      <td>0</td>\n",
       "      <td>labelset3</td>\n",
       "      <td>samples_location1</td>\n",
       "      <td>56</td>\n",
       "      <td>-754</td>\n",
       "      <td>sample4</td>\n",
       "      <td>1.572351e+09</td>\n",
       "    </tr>\n",
       "    <tr>\n",
       "      <th>3</th>\n",
       "      <td>0</td>\n",
       "      <td>30347A12301D6BC59682FF67</td>\n",
       "      <td>866900000</td>\n",
       "      <td>0</td>\n",
       "      <td>labelset3</td>\n",
       "      <td>samples_location1</td>\n",
       "      <td>14</td>\n",
       "      <td>-641</td>\n",
       "      <td>sample4</td>\n",
       "      <td>1.572351e+09</td>\n",
       "    </tr>\n",
       "    <tr>\n",
       "      <th>4</th>\n",
       "      <td>0</td>\n",
       "      <td>E28011700000020D350CABDF</td>\n",
       "      <td>866900000</td>\n",
       "      <td>1</td>\n",
       "      <td>labelset3</td>\n",
       "      <td>samples_location1</td>\n",
       "      <td>33</td>\n",
       "      <td>-762</td>\n",
       "      <td>sample4</td>\n",
       "      <td>1.572351e+09</td>\n",
       "    </tr>\n",
       "  </tbody>\n",
       "</table>\n",
       "</div>"
      ],
      "text/plain": [
       "   beam_id                       epc  frequency  in_box labelset_id  \\\n",
       "0        0  30347A12301D8FC59682FEFA  866900000       0   labelset3   \n",
       "1        0  30347A12301D87C59682FF25  866900000       0   labelset3   \n",
       "2        0  30347A12301D56459682FF93  866900000       0   labelset3   \n",
       "3        0  30347A12301D6BC59682FF67  866900000       0   labelset3   \n",
       "4        0  E28011700000020D350CABDF  866900000       1   labelset3   \n",
       "\n",
       "         location_id  phase  rssi sample_id          time  \n",
       "0  samples_location1     15  -649   sample4  1.572351e+09  \n",
       "1  samples_location1     55  -687   sample4  1.572351e+09  \n",
       "2  samples_location1     56  -754   sample4  1.572351e+09  \n",
       "3  samples_location1     14  -641   sample4  1.572351e+09  \n",
       "4  samples_location1     33  -762   sample4  1.572351e+09  "
      ]
     },
     "execution_count": 4,
     "metadata": {},
     "output_type": "execute_result"
    }
   ],
   "source": [
    "df_samples = util.load_samples()\n",
    "df_samples['in_box'] = df_samples.epc.isin(clean_epcs).astype(int)\n",
    "df_samples.head()"
   ]
  },
  {
   "cell_type": "markdown",
   "metadata": {},
   "source": [
    "## Train/Test Split\n",
    "\n",
    "We split the data into train/test by `location_id`."
   ]
  },
  {
   "cell_type": "code",
   "execution_count": 5,
   "metadata": {
    "ExecuteTime": {
     "end_time": "2019-12-13T12:42:38.799540Z",
     "start_time": "2019-12-13T12:42:38.732873Z"
    }
   },
   "outputs": [
    {
     "name": "stdout",
     "output_type": "stream",
     "text": [
      "Samples train: 71271\n",
      "Samples test: 76783\n"
     ]
    }
   ],
   "source": [
    "df_train = df_samples[df_samples.location_id == 'samples_location1'].copy()\n",
    "df_test = df_samples[df_samples.location_id == 'samples_location2'].copy()\n",
    "\n",
    "print('Samples train: {}'.format(len(df_train)))\n",
    "print('Samples test: {}'.format(len(df_test)))"
   ]
  },
  {
   "cell_type": "code",
   "execution_count": 6,
   "metadata": {
    "ExecuteTime": {
     "end_time": "2019-12-13T12:42:38.815459Z",
     "start_time": "2019-12-13T12:42:38.802610Z"
    }
   },
   "outputs": [
    {
     "data": {
      "text/html": [
       "<div>\n",
       "<style scoped>\n",
       "    .dataframe tbody tr th:only-of-type {\n",
       "        vertical-align: middle;\n",
       "    }\n",
       "\n",
       "    .dataframe tbody tr th {\n",
       "        vertical-align: top;\n",
       "    }\n",
       "\n",
       "    .dataframe thead th {\n",
       "        text-align: right;\n",
       "    }\n",
       "</style>\n",
       "<table border=\"1\" class=\"dataframe\">\n",
       "  <thead>\n",
       "    <tr style=\"text-align: right;\">\n",
       "      <th></th>\n",
       "      <th>beam_id</th>\n",
       "      <th>epc</th>\n",
       "      <th>frequency</th>\n",
       "      <th>in_box</th>\n",
       "      <th>labelset_id</th>\n",
       "      <th>location_id</th>\n",
       "      <th>phase</th>\n",
       "      <th>rssi</th>\n",
       "      <th>sample_id</th>\n",
       "      <th>time</th>\n",
       "    </tr>\n",
       "  </thead>\n",
       "  <tbody>\n",
       "    <tr>\n",
       "      <th>0</th>\n",
       "      <td>0</td>\n",
       "      <td>30347A12301D8FC59682FEFA</td>\n",
       "      <td>866900000</td>\n",
       "      <td>0</td>\n",
       "      <td>labelset3</td>\n",
       "      <td>samples_location1</td>\n",
       "      <td>15</td>\n",
       "      <td>-649</td>\n",
       "      <td>sample4</td>\n",
       "      <td>1.572351e+09</td>\n",
       "    </tr>\n",
       "    <tr>\n",
       "      <th>1</th>\n",
       "      <td>0</td>\n",
       "      <td>30347A12301D87C59682FF25</td>\n",
       "      <td>866900000</td>\n",
       "      <td>0</td>\n",
       "      <td>labelset3</td>\n",
       "      <td>samples_location1</td>\n",
       "      <td>55</td>\n",
       "      <td>-687</td>\n",
       "      <td>sample4</td>\n",
       "      <td>1.572351e+09</td>\n",
       "    </tr>\n",
       "  </tbody>\n",
       "</table>\n",
       "</div>"
      ],
      "text/plain": [
       "   beam_id                       epc  frequency  in_box labelset_id  \\\n",
       "0        0  30347A12301D8FC59682FEFA  866900000       0   labelset3   \n",
       "1        0  30347A12301D87C59682FF25  866900000       0   labelset3   \n",
       "\n",
       "         location_id  phase  rssi sample_id          time  \n",
       "0  samples_location1     15  -649   sample4  1.572351e+09  \n",
       "1  samples_location1     55  -687   sample4  1.572351e+09  "
      ]
     },
     "execution_count": 6,
     "metadata": {},
     "output_type": "execute_result"
    }
   ],
   "source": [
    "df_train.head(2)"
   ]
  },
  {
   "cell_type": "code",
   "execution_count": 7,
   "metadata": {
    "ExecuteTime": {
     "end_time": "2019-12-13T12:42:38.835572Z",
     "start_time": "2019-12-13T12:42:38.819623Z"
    }
   },
   "outputs": [
    {
     "data": {
      "text/html": [
       "<div>\n",
       "<style scoped>\n",
       "    .dataframe tbody tr th:only-of-type {\n",
       "        vertical-align: middle;\n",
       "    }\n",
       "\n",
       "    .dataframe tbody tr th {\n",
       "        vertical-align: top;\n",
       "    }\n",
       "\n",
       "    .dataframe thead th {\n",
       "        text-align: right;\n",
       "    }\n",
       "</style>\n",
       "<table border=\"1\" class=\"dataframe\">\n",
       "  <thead>\n",
       "    <tr style=\"text-align: right;\">\n",
       "      <th></th>\n",
       "      <th>beam_id</th>\n",
       "      <th>epc</th>\n",
       "      <th>frequency</th>\n",
       "      <th>in_box</th>\n",
       "      <th>labelset_id</th>\n",
       "      <th>location_id</th>\n",
       "      <th>phase</th>\n",
       "      <th>rssi</th>\n",
       "      <th>sample_id</th>\n",
       "      <th>time</th>\n",
       "    </tr>\n",
       "  </thead>\n",
       "  <tbody>\n",
       "    <tr>\n",
       "      <th>0</th>\n",
       "      <td>0</td>\n",
       "      <td>E28011700000020D350CABCF</td>\n",
       "      <td>866900000</td>\n",
       "      <td>1</td>\n",
       "      <td>labelset3</td>\n",
       "      <td>samples_location2</td>\n",
       "      <td>18</td>\n",
       "      <td>-687</td>\n",
       "      <td>sample4</td>\n",
       "      <td>1.572351e+09</td>\n",
       "    </tr>\n",
       "    <tr>\n",
       "      <th>1</th>\n",
       "      <td>0</td>\n",
       "      <td>E28011700000020D350CE1BE</td>\n",
       "      <td>866900000</td>\n",
       "      <td>1</td>\n",
       "      <td>labelset3</td>\n",
       "      <td>samples_location2</td>\n",
       "      <td>29</td>\n",
       "      <td>-609</td>\n",
       "      <td>sample4</td>\n",
       "      <td>1.572351e+09</td>\n",
       "    </tr>\n",
       "  </tbody>\n",
       "</table>\n",
       "</div>"
      ],
      "text/plain": [
       "   beam_id                       epc  frequency  in_box labelset_id  \\\n",
       "0        0  E28011700000020D350CABCF  866900000       1   labelset3   \n",
       "1        0  E28011700000020D350CE1BE  866900000       1   labelset3   \n",
       "\n",
       "         location_id  phase  rssi sample_id          time  \n",
       "0  samples_location2     18  -687   sample4  1.572351e+09  \n",
       "1  samples_location2     29  -609   sample4  1.572351e+09  "
      ]
     },
     "execution_count": 7,
     "metadata": {},
     "output_type": "execute_result"
    }
   ],
   "source": [
    "df_test.head(2)"
   ]
  },
  {
   "cell_type": "markdown",
   "metadata": {},
   "source": [
    "## Baseline: classify each EPC code as outside of the box"
   ]
  },
  {
   "cell_type": "markdown",
   "metadata": {},
   "source": [
    "Let's try a very basic classifier: classify each ECP code as outside of the box. \n",
    "\n",
    "We already get an accuracy of 96%. This tells us we should also look at recall and precision for both classes, which clearly is very low. We can do better than this with an machine learning model."
   ]
  },
  {
   "cell_type": "code",
   "execution_count": 8,
   "metadata": {
    "ExecuteTime": {
     "end_time": "2019-12-13T12:42:38.910963Z",
     "start_time": "2019-12-13T12:42:38.906657Z"
    }
   },
   "outputs": [],
   "source": [
    "CLASS_NAMES = np.array(['Outside', 'Inside'])"
   ]
  },
  {
   "cell_type": "code",
   "execution_count": 9,
   "metadata": {
    "ExecuteTime": {
     "end_time": "2019-12-13T12:42:39.160067Z",
     "start_time": "2019-12-13T12:42:38.935116Z"
    }
   },
   "outputs": [
    {
     "name": "stdout",
     "output_type": "stream",
     "text": [
      "              precision    recall  f1-score   support\n",
      "\n",
      "     Outside     0.9621    1.0000    0.9807       762\n",
      "      Inside     0.0000    0.0000    0.0000        30\n",
      "\n",
      "    accuracy                         0.9621       792\n",
      "   macro avg     0.4811    0.5000    0.4903       792\n",
      "weighted avg     0.9257    0.9621    0.9435       792\n",
      "\n"
     ]
    },
    {
     "data": {
      "image/png": "[encoded data removed]",
      "text/plain": [
       "<Figure size 432x288 with 2 Axes>"
      ]
     },
     "metadata": {
      "needs_background": "light"
     },
     "output_type": "display_data"
    }
   ],
   "source": [
    "X_train = df_train.groupby('epc').count()\n",
    "y_train = X_train.index.isin(clean_epcs).astype(int)\n",
    "\n",
    "X_test = df_test.groupby('epc').count()\n",
    "y_test = X_test.index.isin(clean_epcs).astype(int)\n",
    "\n",
    "\n",
    "clf = DummyClassifier(strategy='most_frequent', random_state=0)\n",
    "clf.fit(X_train, y_train)\n",
    "y_pred_test = clf.predict(X_test)\n",
    "\n",
    "evaluate(y_test, y_pred_test, class_names=CLASS_NAMES)"
   ]
  },
  {
   "cell_type": "markdown",
   "metadata": {},
   "source": [
    "## First Machine learning classifier: Logistic Regression with two Features"
   ]
  },
  {
   "cell_type": "markdown",
   "metadata": {},
   "source": [
    "### Feature Engineering"
   ]
  },
  {
   "cell_type": "markdown",
   "metadata": {},
   "source": [
    "   * Feature engineering converts a real-live observation into a set of features (i.e., attributes) that characterizes an observation. \n",
    "   * For example, an RFID reading (observation) has a signal strength (feature).\n",
    "   * We then ask the machine learning model to learn a mapping from the features of an observation to a decision \n",
    "   * Here: given the features of a reading, is it (A) inside the box or (B) outside the box?"
   ]
  },
  {
   "cell_type": "markdown",
   "metadata": {},
   "source": [
    "Below we show how to compute two features: (1) The minimum RSSI (signal strength) and (2) the maximum RSSI for each RFID label."
   ]
  },
  {
   "cell_type": "code",
   "execution_count": 10,
   "metadata": {
    "ExecuteTime": {
     "end_time": "2019-12-13T12:42:39.179114Z",
     "start_time": "2019-12-13T12:42:39.162944Z"
    }
   },
   "outputs": [],
   "source": [
    "def extract_features(df):\n",
    "    agg = df.groupby('epc').agg(\n",
    "        max_rssi=('rssi','max'),\n",
    "        min_rssi=('rssi','min'),\n",
    "    )\n",
    "    \n",
    "    return agg"
   ]
  },
  {
   "cell_type": "markdown",
   "metadata": {},
   "source": [
    "Apply feature extractor to our data."
   ]
  },
  {
   "cell_type": "code",
   "execution_count": 11,
   "metadata": {
    "ExecuteTime": {
     "end_time": "2019-12-13T12:42:39.216003Z",
     "start_time": "2019-12-13T12:42:39.182339Z"
    }
   },
   "outputs": [],
   "source": [
    "df_train_features = extract_features(df_train)\n",
    "\n",
    "X_train = df_train_features.values\n",
    "y_train = df_train_features.index.isin(clean_epcs).astype(int)\n",
    "\n",
    "df_test_features = extract_features(df_test)\n",
    "\n",
    "X_test = df_test_features.values\n",
    "y_test = df_test_features.index.isin(clean_epcs).astype(int)"
   ]
  },
  {
   "cell_type": "markdown",
   "metadata": {},
   "source": [
    "### Visualize `max(RSSI)` vs. `min(RSSI)`"
   ]
  },
  {
   "cell_type": "markdown",
   "metadata": {},
   "source": [
    "We can see that a simple classifier with two features should already do reasonably well. "
   ]
  },
  {
   "cell_type": "code",
   "execution_count": 12,
   "metadata": {
    "ExecuteTime": {
     "end_time": "2019-12-13T12:42:39.225455Z",
     "start_time": "2019-12-13T12:42:39.218300Z"
    }
   },
   "outputs": [],
   "source": [
    "c1 = df_train_features.iloc[np.where(y_train == 0)]\n",
    "c2 = df_train_features.iloc[np.where(y_train == 1)]"
   ]
  },
  {
   "cell_type": "code",
   "execution_count": 13,
   "metadata": {
    "ExecuteTime": {
     "end_time": "2019-12-13T12:42:39.372123Z",
     "start_time": "2019-12-13T12:42:39.228262Z"
    }
   },
   "outputs": [
    {
     "data": {
      "text/plain": [
       "Text(0, 0.5, 'min_rssi')"
      ]
     },
     "execution_count": 13,
     "metadata": {},
     "output_type": "execute_result"
    },
    {
     "data": {
      "image/png": "[encoded data removed]",
      "text/plain": [
       "<Figure size 432x288 with 1 Axes>"
      ]
     },
     "metadata": {
      "needs_background": "light"
     },
     "output_type": "display_data"
    }
   ],
   "source": [
    "plt.scatter(c1['max_rssi'], c1['min_rssi'], c='b')\n",
    "plt.scatter(c2['max_rssi'], c2['min_rssi'], c='r')\n",
    "plt.xlabel('max_rssi')\n",
    "plt.ylabel('min_rssi')"
   ]
  },
  {
   "cell_type": "markdown",
   "metadata": {},
   "source": [
    "### Scaling"
   ]
  },
  {
   "cell_type": "markdown",
   "metadata": {},
   "source": [
    "We first have to scale our data."
   ]
  },
  {
   "cell_type": "code",
   "execution_count": 14,
   "metadata": {
    "ExecuteTime": {
     "end_time": "2019-12-13T12:42:39.380186Z",
     "start_time": "2019-12-13T12:42:39.374463Z"
    }
   },
   "outputs": [],
   "source": [
    "min_max_scaler = preprocessing.MinMaxScaler()\n",
    "X_train = min_max_scaler.fit_transform(X_train)\n",
    "X_test = min_max_scaler.transform(X_test)"
   ]
  },
  {
   "cell_type": "markdown",
   "metadata": {},
   "source": [
    "### Train/test Logistic Regression Classifier"
   ]
  },
  {
   "cell_type": "code",
   "execution_count": 15,
   "metadata": {
    "ExecuteTime": {
     "end_time": "2019-12-13T12:42:39.395686Z",
     "start_time": "2019-12-13T12:42:39.382999Z"
    }
   },
   "outputs": [],
   "source": [
    "clf = LogisticRegression(solver='lbfgs').fit(X_train, y_train)\n",
    "y_pred_test = clf.predict(X_test)"
   ]
  },
  {
   "cell_type": "code",
   "execution_count": 16,
   "metadata": {
    "ExecuteTime": {
     "end_time": "2019-12-13T12:42:39.569774Z",
     "start_time": "2019-12-13T12:42:39.398487Z"
    }
   },
   "outputs": [
    {
     "name": "stdout",
     "output_type": "stream",
     "text": [
      "              precision    recall  f1-score   support\n",
      "\n",
      "     Outside     0.9870    1.0000    0.9935       762\n",
      "      Inside     1.0000    0.6667    0.8000        30\n",
      "\n",
      "    accuracy                         0.9874       792\n",
      "   macro avg     0.9935    0.8333    0.8967       792\n",
      "weighted avg     0.9875    0.9874    0.9862       792\n",
      "\n"
     ]
    },
    {
     "data": {
      "image/png": "[encoded data removed]",
      "text/plain": [
       "<Figure size 432x288 with 2 Axes>"
      ]
     },
     "metadata": {
      "needs_background": "light"
     },
     "output_type": "display_data"
    }
   ],
   "source": [
    "evaluate(y_test, y_pred_test, class_names=CLASS_NAMES)"
   ]
  },
  {
   "cell_type": "markdown",
   "metadata": {},
   "source": [
    "## Exercise 1: Extract additional features"
   ]
  },
  {
   "cell_type": "markdown",
   "metadata": {
    "ExecuteTime": {
     "end_time": "2019-12-13T10:23:31.613310Z",
     "start_time": "2019-12-13T10:23:31.602836Z"
    }
   },
   "source": [
    "The classifier trained above used two features. Can we improve it by adding more features to it?\n",
    "\n",
    "**Exercise 1:** design additional features that a machine learning model can use to classify RFID readings. Some inspiration: \n",
    "   * Number of readings for each EPC code?\n",
    "   * Average signal strength\n",
    "   * Median signal strength\n",
    "   * 80th quantile\n",
    "   * 20th quantile\n",
    "\n",
    "Afterwards, run the code below and check how your model performs. How does this change if you remove some of the features?\n",
    "\n",
    "Here is a list of functions that you may want to try:\n",
    "https://pandas.pydata.org/pandas-docs/stable/reference/series.html#computations-descriptive-stats"
   ]
  },
  {
   "cell_type": "markdown",
   "metadata": {},
   "source": [
    "### Feature Extraction"
   ]
  },
  {
   "cell_type": "code",
   "execution_count": 17,
   "metadata": {
    "ExecuteTime": {
     "end_time": "2019-12-13T12:42:39.607085Z",
     "start_time": "2019-12-13T12:42:39.576122Z"
    }
   },
   "outputs": [
    {
     "data": {
      "text/html": [
       "<div>\n",
       "<style scoped>\n",
       "    .dataframe tbody tr th:only-of-type {\n",
       "        vertical-align: middle;\n",
       "    }\n",
       "\n",
       "    .dataframe tbody tr th {\n",
       "        vertical-align: top;\n",
       "    }\n",
       "\n",
       "    .dataframe thead th {\n",
       "        text-align: right;\n",
       "    }\n",
       "</style>\n",
       "<table border=\"1\" class=\"dataframe\">\n",
       "  <thead>\n",
       "    <tr style=\"text-align: right;\">\n",
       "      <th></th>\n",
       "      <th>max_rssi</th>\n",
       "      <th>min_rssi</th>\n",
       "    </tr>\n",
       "    <tr>\n",
       "      <th>epc</th>\n",
       "      <th></th>\n",
       "      <th></th>\n",
       "    </tr>\n",
       "  </thead>\n",
       "  <tbody>\n",
       "    <tr>\n",
       "      <th>30347A12301D51459682FF61</th>\n",
       "      <td>-649</td>\n",
       "      <td>-814</td>\n",
       "    </tr>\n",
       "    <tr>\n",
       "      <th>30347A12301D52459682FF65</th>\n",
       "      <td>-620</td>\n",
       "      <td>-795</td>\n",
       "    </tr>\n",
       "    <tr>\n",
       "      <th>30347A12301D52859682FF78</th>\n",
       "      <td>-598</td>\n",
       "      <td>-830</td>\n",
       "    </tr>\n",
       "    <tr>\n",
       "      <th>30347A12301D52C59682FF77</th>\n",
       "      <td>-747</td>\n",
       "      <td>-747</td>\n",
       "    </tr>\n",
       "    <tr>\n",
       "      <th>30347A12301D53059682FF76</th>\n",
       "      <td>-687</td>\n",
       "      <td>-719</td>\n",
       "    </tr>\n",
       "    <tr>\n",
       "      <th>...</th>\n",
       "      <td>...</td>\n",
       "      <td>...</td>\n",
       "    </tr>\n",
       "    <tr>\n",
       "      <th>E2806894000050020364F08D</th>\n",
       "      <td>-358</td>\n",
       "      <td>-779</td>\n",
       "    </tr>\n",
       "    <tr>\n",
       "      <th>E2806894000050020364FC8D</th>\n",
       "      <td>-313</td>\n",
       "      <td>-719</td>\n",
       "    </tr>\n",
       "    <tr>\n",
       "      <th>E2806894000050020365048D</th>\n",
       "      <td>-308</td>\n",
       "      <td>-807</td>\n",
       "    </tr>\n",
       "    <tr>\n",
       "      <th>E2806894000050020365088D</th>\n",
       "      <td>-373</td>\n",
       "      <td>-754</td>\n",
       "    </tr>\n",
       "    <tr>\n",
       "      <th>E2806894000050020365108D</th>\n",
       "      <td>-326</td>\n",
       "      <td>-747</td>\n",
       "    </tr>\n",
       "  </tbody>\n",
       "</table>\n",
       "<p>320 rows × 2 columns</p>\n",
       "</div>"
      ],
      "text/plain": [
       "                          max_rssi  min_rssi\n",
       "epc                                         \n",
       "30347A12301D51459682FF61      -649      -814\n",
       "30347A12301D52459682FF65      -620      -795\n",
       "30347A12301D52859682FF78      -598      -830\n",
       "30347A12301D52C59682FF77      -747      -747\n",
       "30347A12301D53059682FF76      -687      -719\n",
       "...                            ...       ...\n",
       "E2806894000050020364F08D      -358      -779\n",
       "E2806894000050020364FC8D      -313      -719\n",
       "E2806894000050020365048D      -308      -807\n",
       "E2806894000050020365088D      -373      -754\n",
       "E2806894000050020365108D      -326      -747\n",
       "\n",
       "[320 rows x 2 columns]"
      ]
     },
     "execution_count": 17,
     "metadata": {},
     "output_type": "execute_result"
    }
   ],
   "source": [
    "def extract_features(df):\n",
    "    agg = df.groupby('epc').agg(\n",
    "        max_rssi=('rssi','max'),\n",
    "        min_rssi=('rssi','min'),\n",
    "        # [Exericse] add your features here\n",
    "    )\n",
    "    \n",
    "    return agg\n",
    "\n",
    "extract_features(df_train)"
   ]
  },
  {
   "cell_type": "code",
   "execution_count": 18,
   "metadata": {
    "ExecuteTime": {
     "end_time": "2019-12-13T12:42:39.738978Z",
     "start_time": "2019-12-13T12:42:39.609116Z"
    }
   },
   "outputs": [],
   "source": [
    "df_train_features = extract_features(df_train)\n",
    "\n",
    "X_train = df_train_features.values\n",
    "y_train = df_train_features.index.isin(clean_epcs).astype(int)\n",
    "\n",
    "df_test_features = extract_features(df_test)\n",
    "\n",
    "X_test = df_test_features.values\n",
    "y_test = df_test_features.index.isin(clean_epcs).astype(int)"
   ]
  },
  {
   "cell_type": "markdown",
   "metadata": {},
   "source": [
    "### Scaling"
   ]
  },
  {
   "cell_type": "markdown",
   "metadata": {},
   "source": [
    "We first have to scale our data."
   ]
  },
  {
   "cell_type": "code",
   "execution_count": 19,
   "metadata": {
    "ExecuteTime": {
     "end_time": "2019-12-13T12:42:39.747171Z",
     "start_time": "2019-12-13T12:42:39.740957Z"
    }
   },
   "outputs": [],
   "source": [
    "min_max_scaler = preprocessing.MinMaxScaler()\n",
    "X_train = min_max_scaler.fit_transform(X_train)\n",
    "X_test = min_max_scaler.transform(X_test)"
   ]
  },
  {
   "cell_type": "markdown",
   "metadata": {},
   "source": [
    "### Train/test Logistic Regression Classifier"
   ]
  },
  {
   "cell_type": "code",
   "execution_count": 20,
   "metadata": {
    "ExecuteTime": {
     "end_time": "2019-12-13T12:42:39.763929Z",
     "start_time": "2019-12-13T12:42:39.751705Z"
    }
   },
   "outputs": [],
   "source": [
    "clf = LogisticRegression(solver='lbfgs').fit(X_train, y_train)\n",
    "y_pred_test = clf.predict(X_test)"
   ]
  },
  {
   "cell_type": "code",
   "execution_count": 21,
   "metadata": {
    "ExecuteTime": {
     "end_time": "2019-12-13T12:42:39.944025Z",
     "start_time": "2019-12-13T12:42:39.765943Z"
    }
   },
   "outputs": [
    {
     "name": "stdout",
     "output_type": "stream",
     "text": [
      "              precision    recall  f1-score   support\n",
      "\n",
      "     Outside     0.9870    1.0000    0.9935       762\n",
      "      Inside     1.0000    0.6667    0.8000        30\n",
      "\n",
      "    accuracy                         0.9874       792\n",
      "   macro avg     0.9935    0.8333    0.8967       792\n",
      "weighted avg     0.9875    0.9874    0.9862       792\n",
      "\n"
     ]
    },
    {
     "data": {
      "image/png": "[encoded data removed]",
      "text/plain": [
       "<Figure size 432x288 with 2 Axes>"
      ]
     },
     "metadata": {
      "needs_background": "light"
     },
     "output_type": "display_data"
    }
   ],
   "source": [
    "evaluate(y_test, y_pred_test, class_names=CLASS_NAMES)"
   ]
  },
  {
   "cell_type": "markdown",
   "metadata": {},
   "source": [
    "## Exercise 2: Inspect Feature Importance"
   ]
  },
  {
   "cell_type": "markdown",
   "metadata": {},
   "source": [
    "**Exercise:** What are the most important features for your classifier? What is the contribution of the features that you implemented?"
   ]
  },
  {
   "cell_type": "code",
   "execution_count": 22,
   "metadata": {
    "ExecuteTime": {
     "end_time": "2019-12-13T12:42:40.046466Z",
     "start_time": "2019-12-13T12:42:39.948577Z"
    }
   },
   "outputs": [
    {
     "data": {
      "text/html": [
       "\n",
       "    <style>\n",
       "    table.eli5-weights tr:hover {\n",
       "        filter: brightness(85%);\n",
       "    }\n",
       "</style>\n",
       "\n",
       "\n",
       "\n",
       "    \n",
       "\n",
       "    \n",
       "\n",
       "    \n",
       "\n",
       "    \n",
       "\n",
       "    \n",
       "\n",
       "    \n",
       "\n",
       "\n",
       "    \n",
       "\n",
       "    \n",
       "\n",
       "    \n",
       "\n",
       "    \n",
       "        \n",
       "\n",
       "    \n",
       "\n",
       "        \n",
       "            \n",
       "                \n",
       "                \n",
       "    \n",
       "        <p style=\"margin-bottom: 0.5em; margin-top: 0em\">\n",
       "            <b>\n",
       "    \n",
       "        y=Inside\n",
       "    \n",
       "</b>\n",
       "\n",
       "top features\n",
       "        </p>\n",
       "    \n",
       "    <table class=\"eli5-weights\"\n",
       "           style=\"border-collapse: collapse; border: none; margin-top: 0em; table-layout: auto; margin-bottom: 2em;\">\n",
       "        <thead>\n",
       "        <tr style=\"border: none;\">\n",
       "            \n",
       "                <th style=\"padding: 0 1em 0 0.5em; text-align: right; border: none;\" title=\"Feature weights. Note that weights do not account for feature value scales, so if feature values have different scales, features with highest weights might not be the most important.\">\n",
       "                    Weight<sup>?</sup>\n",
       "                </th>\n",
       "            \n",
       "            <th style=\"padding: 0 0.5em 0 0.5em; text-align: left; border: none;\">Feature</th>\n",
       "            \n",
       "        </tr>\n",
       "        </thead>\n",
       "        <tbody>\n",
       "        \n",
       "            <tr style=\"background-color: hsl(120, 100.00%, 80.00%); border: none;\">\n",
       "    <td style=\"padding: 0 1em 0 0.5em; text-align: right; border: none;\">\n",
       "        +5.781\n",
       "    </td>\n",
       "    <td style=\"padding: 0 0.5em 0 0.5em; text-align: left; border: none;\">\n",
       "        max_rssi\n",
       "    </td>\n",
       "    \n",
       "</tr>\n",
       "        \n",
       "            <tr style=\"background-color: hsl(120, 100.00%, 98.39%); border: none;\">\n",
       "    <td style=\"padding: 0 1em 0 0.5em; text-align: right; border: none;\">\n",
       "        +0.158\n",
       "    </td>\n",
       "    <td style=\"padding: 0 0.5em 0 0.5em; text-align: left; border: none;\">\n",
       "        min_rssi\n",
       "    </td>\n",
       "    \n",
       "</tr>\n",
       "        \n",
       "        \n",
       "\n",
       "        \n",
       "        \n",
       "            <tr style=\"background-color: hsl(0, 100.00%, 83.85%); border: none;\">\n",
       "    <td style=\"padding: 0 1em 0 0.5em; text-align: right; border: none;\">\n",
       "        -4.258\n",
       "    </td>\n",
       "    <td style=\"padding: 0 0.5em 0 0.5em; text-align: left; border: none;\">\n",
       "        &lt;BIAS&gt;\n",
       "    </td>\n",
       "    \n",
       "</tr>\n",
       "        \n",
       "\n",
       "        </tbody>\n",
       "    </table>\n",
       "\n",
       "            \n",
       "        \n",
       "\n",
       "        \n",
       "\n",
       "\n",
       "\n",
       "    \n",
       "\n",
       "    \n",
       "\n",
       "    \n",
       "\n",
       "    \n",
       "\n",
       "\n",
       "    \n",
       "\n",
       "    \n",
       "\n",
       "    \n",
       "\n",
       "    \n",
       "\n",
       "    \n",
       "\n",
       "    \n",
       "\n",
       "\n",
       "    \n",
       "\n",
       "    \n",
       "\n",
       "    \n",
       "\n",
       "    \n",
       "\n",
       "    \n",
       "\n",
       "    \n",
       "\n",
       "\n",
       "\n"
      ],
      "text/plain": [
       "<IPython.core.display.HTML object>"
      ]
     },
     "execution_count": 22,
     "metadata": {},
     "output_type": "execute_result"
    }
   ],
   "source": [
    "eli5.show_weights(clf, feature_names=df_train_features.columns.values, target_names=CLASS_NAMES)"
   ]
  },
  {
   "cell_type": "markdown",
   "metadata": {},
   "source": [
    "## Exercise 3: different classifiers"
   ]
  },
  {
   "cell_type": "markdown",
   "metadata": {},
   "source": [
    "scikit-learn offers a unified set of APIs to experiment with different classifiers. You have already seen how to use the `LogisticRegression` classifier above. \n",
    "\n",
    "**Exercise:** try different classifiers. Some suggestions:\n",
    "\n",
    "* Decision Tree: https://scikit-learn.org/stable/modules/tree.html#classification\n",
    "* k-nearest Neighbors (KNN): https://scikit-learn.org/stable/modules/generated/sklearn.neighbors.KNeighborsClassifier.html#sklearn.neighbors.KNeighborsClassifier\n",
    "* Support vector machine (SVM): https://scikit-learn.org/stable/modules/svm.html#classification"
   ]
  },
  {
   "cell_type": "code",
   "execution_count": null,
   "metadata": {
    "ExecuteTime": {
     "end_time": "2019-12-13T12:42:40.306237Z",
     "start_time": "2019-12-13T12:42:40.050454Z"
    }
   },
   "outputs": [],
   "source": [
    "# [Exercise] define your classifier here\n",
    "\n",
    "# 1. Import classifier\n",
    "# from sklearn. import ...\n",
    "\n",
    "# 2. Instantiate classifier\n",
    "clf = None # ...\n",
    "\n",
    "# 3. Train it on the training data\n",
    "clf.fit(X_train, y_train)\n",
    "\n",
    "# 4. Make predictions on the test data\n",
    "y_pred_test = clf.predict(X_test)"
   ]
  },
  {
   "cell_type": "markdown",
   "metadata": {},
   "source": [
    "**Exercise:** Evaluate with the evaluation function below. How does the performance compare to the `LogisticRegression` classifier (see above)?"
   ]
  },
  {
   "cell_type": "code",
   "execution_count": null,
   "metadata": {
    "ExecuteTime": {
     "end_time": "2019-12-13T12:42:40.310099Z",
     "start_time": "2019-12-13T12:42:36.654Z"
    }
   },
   "outputs": [],
   "source": [
    "# Evaluate the classifier you trained in the previous cell.\n",
    "\n",
    "evaluate(y_test, y_pred_test, class_names=CLASS_NAMES)"
   ]
  }
 ],
 "metadata": {
  "hide_input": false,
  "kernelspec": {
   "display_name": "Python (rfidtags)",
   "language": "python",
   "name": "rfidtags"
  },
  "language_info": {
   "codemirror_mode": {
    "name": "ipython",
    "version": 3
   },
   "file_extension": ".py",
   "mimetype": "text/x-python",
   "name": "python",
   "nbconvert_exporter": "python",
   "pygments_lexer": "ipython3",
   "version": "3.7.3"
  },
  "toc": {
   "base_numbering": "1",
   "nav_menu": {},
   "number_sections": true,
   "sideBar": true,
   "skip_h1_title": true,
   "title_cell": "Table of Contents",
   "title_sidebar": "Contents",
   "toc_cell": true,
   "toc_position": {
    "height": "calc(100% - 180px)",
    "left": "10px",
    "top": "150px",
    "width": "521px"
   },
   "toc_section_display": true,
   "toc_window_display": true
  }
 },
 "nbformat": 4,
 "nbformat_minor": 2
}
