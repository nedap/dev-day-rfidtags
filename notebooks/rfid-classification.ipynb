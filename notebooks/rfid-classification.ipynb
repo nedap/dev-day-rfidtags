{
 "cells": [
  {
   "cell_type": "markdown",
   "metadata": {},
   "source": [
    "# Nedap Dev Day 2019 - Retail RFID Label Reading"
   ]
  },
  {
   "cell_type": "markdown",
   "metadata": {
    "toc": true
   },
   "source": [
    "<h1>Table of Contents<span class=\"tocSkip\"></span></h1>\n",
    "<div class=\"toc\"><ul class=\"toc-item\"><li><span><a href=\"#Problem-Description\" data-toc-modified-id=\"Problem-Description-1\"><span class=\"toc-item-num\">1&nbsp;&nbsp;</span>Problem Description</a></span></li><li><span><a href=\"#Machine-Learning-Pipeline\" data-toc-modified-id=\"Machine-Learning-Pipeline-2\"><span class=\"toc-item-num\">2&nbsp;&nbsp;</span>Machine Learning Pipeline</a></span></li><li><span><a href=\"#Notebook-Setup\" data-toc-modified-id=\"Notebook-Setup-3\"><span class=\"toc-item-num\">3&nbsp;&nbsp;</span>Notebook Setup</a></span><ul class=\"toc-item\"><li><span><a href=\"#Import-Packages\" data-toc-modified-id=\"Import-Packages-3.1\"><span class=\"toc-item-num\">3.1&nbsp;&nbsp;</span>Import Packages</a></span></li><li><span><a href=\"#Utility-Functions\" data-toc-modified-id=\"Utility-Functions-3.2\"><span class=\"toc-item-num\">3.2&nbsp;&nbsp;</span>Utility Functions</a></span></li></ul></li><li><span><a href=\"#Load-Data\" data-toc-modified-id=\"Load-Data-4\"><span class=\"toc-item-num\">4&nbsp;&nbsp;</span>Load Data</a></span><ul class=\"toc-item\"><li><span><a href=\"#Load-Clean-EPC-Codes\" data-toc-modified-id=\"Load-Clean-EPC-Codes-4.1\"><span class=\"toc-item-num\">4.1&nbsp;&nbsp;</span>Load Clean EPC Codes</a></span></li><li><span><a href=\"#Load-All-Samples\" data-toc-modified-id=\"Load-All-Samples-4.2\"><span class=\"toc-item-num\">4.2&nbsp;&nbsp;</span>Load All Samples</a></span></li></ul></li><li><span><a href=\"#Exploratory-Data-Analysis\" data-toc-modified-id=\"Exploratory-Data-Analysis-5\"><span class=\"toc-item-num\">5&nbsp;&nbsp;</span>Exploratory Data Analysis</a></span><ul class=\"toc-item\"><li><span><a href=\"#Number-of-Readings-per-Location\" data-toc-modified-id=\"Number-of-Readings-per-Location-5.1\"><span class=\"toc-item-num\">5.1&nbsp;&nbsp;</span>Number of Readings per Location</a></span></li><li><span><a href=\"#Number-of-Unique-EPC-Codes-per-Location\" data-toc-modified-id=\"Number-of-Unique-EPC-Codes-per-Location-5.2\"><span class=\"toc-item-num\">5.2&nbsp;&nbsp;</span>Number of Unique EPC Codes per Location</a></span></li><li><span><a href=\"#Distribution-of-Inside-vs.-Outside-Readings-Across-Labelsets\" data-toc-modified-id=\"Distribution-of-Inside-vs.-Outside-Readings-Across-Labelsets-5.3\"><span class=\"toc-item-num\">5.3&nbsp;&nbsp;</span>Distribution of Inside vs. Outside Readings Across Labelsets</a></span></li><li><span><a href=\"#Distribution-of-Inside-vs.-Outside-Readings-Across-Locations\" data-toc-modified-id=\"Distribution-of-Inside-vs.-Outside-Readings-Across-Locations-5.4\"><span class=\"toc-item-num\">5.4&nbsp;&nbsp;</span>Distribution of Inside vs. Outside Readings Across Locations</a></span></li><li><span><a href=\"#Number-of-Unique-EPC-Codes\" data-toc-modified-id=\"Number-of-Unique-EPC-Codes-5.5\"><span class=\"toc-item-num\">5.5&nbsp;&nbsp;</span>Number of Unique EPC Codes</a></span></li><li><span><a href=\"#Distribution-of-Number-of-Readings-per-EPC-Code\" data-toc-modified-id=\"Distribution-of-Number-of-Readings-per-EPC-Code-5.6\"><span class=\"toc-item-num\">5.6&nbsp;&nbsp;</span>Distribution of Number of Readings per EPC Code</a></span></li></ul></li><li><span><a href=\"#Train/Test-Split\" data-toc-modified-id=\"Train/Test-Split-6\"><span class=\"toc-item-num\">6&nbsp;&nbsp;</span>Train/Test Split</a></span></li><li><span><a href=\"#Feature-Engineering\" data-toc-modified-id=\"Feature-Engineering-7\"><span class=\"toc-item-num\">7&nbsp;&nbsp;</span>Feature Engineering</a></span><ul class=\"toc-item\"><li><span><a href=\"#Extract-Features\" data-toc-modified-id=\"Extract-Features-7.1\"><span class=\"toc-item-num\">7.1&nbsp;&nbsp;</span>Extract Features</a></span></li><li><span><a href=\"#Visualize-max(RSSI)-vs.-min(RSSI)\" data-toc-modified-id=\"Visualize-max(RSSI)-vs.-min(RSSI)-7.2\"><span class=\"toc-item-num\">7.2&nbsp;&nbsp;</span>Visualize <code>max(RSSI)</code> vs. <code>min(RSSI)</code></a></span></li><li><span><a href=\"#Scaling\" data-toc-modified-id=\"Scaling-7.3\"><span class=\"toc-item-num\">7.3&nbsp;&nbsp;</span>Scaling</a></span></li></ul></li><li><span><a href=\"#Modeling-+-Classification\" data-toc-modified-id=\"Modeling-+-Classification-8\"><span class=\"toc-item-num\">8&nbsp;&nbsp;</span>Modeling + Classification</a></span><ul class=\"toc-item\"><li><span><a href=\"#Most-frequent-Baseline\" data-toc-modified-id=\"Most-frequent-Baseline-8.1\"><span class=\"toc-item-num\">8.1&nbsp;&nbsp;</span>Most-frequent Baseline</a></span></li><li><span><a href=\"#Logistic-Regression\" data-toc-modified-id=\"Logistic-Regression-8.2\"><span class=\"toc-item-num\">8.2&nbsp;&nbsp;</span>Logistic Regression</a></span></li><li><span><a href=\"#Inspect-Feature-Importance\" data-toc-modified-id=\"Inspect-Feature-Importance-8.3\"><span class=\"toc-item-num\">8.3&nbsp;&nbsp;</span>Inspect Feature Importance</a></span></li></ul></li></ul></div>"
   ]
  },
  {
   "cell_type": "markdown",
   "metadata": {},
   "source": [
    "## Problem Description\n",
    "\n",
    "Suppose we scan a box with RFID labels for 30 seconds in an unclean environment. Create a model can read the box without including the rest of the environment."
   ]
  },
  {
   "cell_type": "markdown",
   "metadata": {},
   "source": [
    "\n",
    "\n",
    "## Machine Learning Pipeline"
   ]
  },
  {
   "cell_type": "markdown",
   "metadata": {},
   "source": [
    "![Machine Learning Pipeline](ml-pipeline.png)"
   ]
  },
  {
   "cell_type": "markdown",
   "metadata": {},
   "source": [
    "## Notebook Setup"
   ]
  },
  {
   "cell_type": "markdown",
   "metadata": {},
   "source": [
    "### Import Packages"
   ]
  },
  {
   "cell_type": "code",
   "execution_count": 1,
   "metadata": {
    "ExecuteTime": {
     "end_time": "2019-12-02T14:24:12.661757Z",
     "start_time": "2019-12-02T14:24:11.667609Z"
    }
   },
   "outputs": [],
   "source": [
    "import glob\n",
    "from os.path import join, splitext\n",
    "from pprint import pprint\n",
    "\n",
    "import eli5\n",
    "import matplotlib.pyplot as plt\n",
    "import numpy as np\n",
    "import pandas as pd\n",
    "import seaborn as sns\n",
    "from sklearn import preprocessing\n",
    "from sklearn.dummy import DummyClassifier\n",
    "from sklearn.linear_model import LogisticRegression\n",
    "from sklearn.metrics import classification_report\n",
    "\n",
    "\n",
    "import warnings\n",
    "warnings.filterwarnings('ignore')"
   ]
  },
  {
   "cell_type": "markdown",
   "metadata": {},
   "source": [
    "### Utility Functions"
   ]
  },
  {
   "cell_type": "code",
   "execution_count": 2,
   "metadata": {
    "ExecuteTime": {
     "end_time": "2019-12-02T14:24:12.685407Z",
     "start_time": "2019-12-02T14:24:12.663683Z"
    }
   },
   "outputs": [],
   "source": [
    "import util\n",
    "\n",
    "def evaluate(y_true, y_pred, class_names, cm_title='Confusion matrix, without normalization'):\n",
    "    print(classification_report(y_true, y_pred, digits=4, target_names=class_names))\n",
    "    util.plot_confusion_matrix(y_true, y_pred, classes=class_names, title=cm_title)"
   ]
  },
  {
   "cell_type": "markdown",
   "metadata": {},
   "source": [
    "## Load Data"
   ]
  },
  {
   "cell_type": "code",
   "execution_count": 3,
   "metadata": {
    "ExecuteTime": {
     "end_time": "2019-12-02T14:24:13.235883Z",
     "start_time": "2019-12-02T14:24:12.687594Z"
    }
   },
   "outputs": [
    {
     "name": "stdout",
     "output_type": "stream",
     "text": [
      "/bin/sh: 1: tree: not found\r\n"
     ]
    }
   ],
   "source": [
    "!tree data/"
   ]
  },
  {
   "cell_type": "markdown",
   "metadata": {},
   "source": [
    "### Load Clean EPC Codes"
   ]
  },
  {
   "cell_type": "code",
   "execution_count": 4,
   "metadata": {
    "ExecuteTime": {
     "end_time": "2019-12-02T14:24:13.396845Z",
     "start_time": "2019-12-02T14:24:13.238544Z"
    }
   },
   "outputs": [
    {
     "name": "stdout",
     "output_type": "stream",
     "text": [
      "Number of clean EPCs: 30\n",
      "{'E28011700000020D350CAB2F',\n",
      " 'E28011700000020D350CAB3F',\n",
      " 'E28011700000020D350CABCF',\n",
      " 'E28011700000020D350CABDF',\n",
      " 'E28011700000020D350CABEF',\n",
      " 'E28011700000020D350CABFF',\n",
      " 'E28011700000020D350CC400',\n",
      " 'E28011700000020D350CC58F',\n",
      " 'E28011700000020D350CC59F',\n",
      " 'E28011700000020D350CE1BE',\n",
      " 'E28011700000020EC2506857',\n",
      " 'E28011700000020EC2506956',\n",
      " 'E28011700000020EC2506957',\n",
      " 'E28011700000020EC250695C',\n",
      " 'E28011700000020EC250695D',\n",
      " 'E28011700000020EC2507056',\n",
      " 'E28011700000020EC2507057',\n",
      " 'E28011700000020EC250705C',\n",
      " 'E28011700000020EC250705D',\n",
      " 'E28011700000020EC250715C',\n",
      " 'E2806894000040020364F48D',\n",
      " 'E2806894000040020364F88D',\n",
      " 'E28068940000400203650C8D',\n",
      " 'E2806894000040020365148D',\n",
      " 'E2806894000040020365188D',\n",
      " 'E2806894000050020364F08D',\n",
      " 'E2806894000050020364FC8D',\n",
      " 'E2806894000050020365048D',\n",
      " 'E2806894000050020365088D',\n",
      " 'E2806894000050020365108D'}\n"
     ]
    }
   ],
   "source": [
    "clean_epcs = set()\n",
    "\n",
    "for labelset in glob.glob('../data/labelset*/samples_labels/'):\n",
    "    labelset_readings = glob.glob(join(labelset, '*.csv'))\n",
    "    labelset_epcs = (set(pd.read_csv(csv)['epc']) for csv in labelset_readings)\n",
    "    clean_epcs.update(set.intersection(*labelset_epcs))\n",
    "\n",
    "print('Number of clean EPCs: {}'.format(len(clean_epcs)))\n",
    "pprint(clean_epcs)"
   ]
  },
  {
   "cell_type": "markdown",
   "metadata": {},
   "source": [
    "### Load All Samples"
   ]
  },
  {
   "cell_type": "code",
   "execution_count": 5,
   "metadata": {
    "ExecuteTime": {
     "end_time": "2019-12-02T14:24:14.119234Z",
     "start_time": "2019-12-02T14:24:13.400903Z"
    }
   },
   "outputs": [
    {
     "data": {
      "text/html": [
       "<div>\n",
       "<style scoped>\n",
       "    .dataframe tbody tr th:only-of-type {\n",
       "        vertical-align: middle;\n",
       "    }\n",
       "\n",
       "    .dataframe tbody tr th {\n",
       "        vertical-align: top;\n",
       "    }\n",
       "\n",
       "    .dataframe thead th {\n",
       "        text-align: right;\n",
       "    }\n",
       "</style>\n",
       "<table border=\"1\" class=\"dataframe\">\n",
       "  <thead>\n",
       "    <tr style=\"text-align: right;\">\n",
       "      <th></th>\n",
       "      <th>beam_id</th>\n",
       "      <th>epc</th>\n",
       "      <th>frequency</th>\n",
       "      <th>in_box</th>\n",
       "      <th>labelset_id</th>\n",
       "      <th>location_id</th>\n",
       "      <th>phase</th>\n",
       "      <th>rssi</th>\n",
       "      <th>sample_id</th>\n",
       "      <th>time</th>\n",
       "    </tr>\n",
       "  </thead>\n",
       "  <tbody>\n",
       "    <tr>\n",
       "      <th>0</th>\n",
       "      <td>0</td>\n",
       "      <td>30347A12301D8FC59682FEFA</td>\n",
       "      <td>866900000</td>\n",
       "      <td>0</td>\n",
       "      <td>labelset3</td>\n",
       "      <td>samples_location1</td>\n",
       "      <td>15</td>\n",
       "      <td>-649</td>\n",
       "      <td>sample4</td>\n",
       "      <td>1.572351e+09</td>\n",
       "    </tr>\n",
       "    <tr>\n",
       "      <th>1</th>\n",
       "      <td>0</td>\n",
       "      <td>30347A12301D87C59682FF25</td>\n",
       "      <td>866900000</td>\n",
       "      <td>0</td>\n",
       "      <td>labelset3</td>\n",
       "      <td>samples_location1</td>\n",
       "      <td>55</td>\n",
       "      <td>-687</td>\n",
       "      <td>sample4</td>\n",
       "      <td>1.572351e+09</td>\n",
       "    </tr>\n",
       "    <tr>\n",
       "      <th>2</th>\n",
       "      <td>0</td>\n",
       "      <td>30347A12301D56459682FF93</td>\n",
       "      <td>866900000</td>\n",
       "      <td>0</td>\n",
       "      <td>labelset3</td>\n",
       "      <td>samples_location1</td>\n",
       "      <td>56</td>\n",
       "      <td>-754</td>\n",
       "      <td>sample4</td>\n",
       "      <td>1.572351e+09</td>\n",
       "    </tr>\n",
       "    <tr>\n",
       "      <th>3</th>\n",
       "      <td>0</td>\n",
       "      <td>30347A12301D6BC59682FF67</td>\n",
       "      <td>866900000</td>\n",
       "      <td>0</td>\n",
       "      <td>labelset3</td>\n",
       "      <td>samples_location1</td>\n",
       "      <td>14</td>\n",
       "      <td>-641</td>\n",
       "      <td>sample4</td>\n",
       "      <td>1.572351e+09</td>\n",
       "    </tr>\n",
       "    <tr>\n",
       "      <th>4</th>\n",
       "      <td>0</td>\n",
       "      <td>E28011700000020D350CABDF</td>\n",
       "      <td>866900000</td>\n",
       "      <td>1</td>\n",
       "      <td>labelset3</td>\n",
       "      <td>samples_location1</td>\n",
       "      <td>33</td>\n",
       "      <td>-762</td>\n",
       "      <td>sample4</td>\n",
       "      <td>1.572351e+09</td>\n",
       "    </tr>\n",
       "  </tbody>\n",
       "</table>\n",
       "</div>"
      ],
      "text/plain": [
       "   beam_id                       epc  frequency  in_box labelset_id  \\\n",
       "0        0  30347A12301D8FC59682FEFA  866900000       0   labelset3   \n",
       "1        0  30347A12301D87C59682FF25  866900000       0   labelset3   \n",
       "2        0  30347A12301D56459682FF93  866900000       0   labelset3   \n",
       "3        0  30347A12301D6BC59682FF67  866900000       0   labelset3   \n",
       "4        0  E28011700000020D350CABDF  866900000       1   labelset3   \n",
       "\n",
       "         location_id  phase  rssi sample_id          time  \n",
       "0  samples_location1     15  -649   sample4  1.572351e+09  \n",
       "1  samples_location1     55  -687   sample4  1.572351e+09  \n",
       "2  samples_location1     56  -754   sample4  1.572351e+09  \n",
       "3  samples_location1     14  -641   sample4  1.572351e+09  \n",
       "4  samples_location1     33  -762   sample4  1.572351e+09  "
      ]
     },
     "execution_count": 5,
     "metadata": {},
     "output_type": "execute_result"
    }
   ],
   "source": [
    "all_samples = []\n",
    "\n",
    "for sample_csv in glob.glob('../data/labelset*/samples_location*/*.csv'):\n",
    "    _, _, labelset_id, location_id, sample_id = sample_csv.split('/')\n",
    "    sample_id = splitext(sample_id)[0]\n",
    "    \n",
    "    df_location = pd.read_csv(sample_csv)\n",
    "    df_location['labelset_id'] = labelset_id\n",
    "    df_location['location_id'] = location_id\n",
    "    df_location['sample_id'] = sample_id\n",
    "    all_samples.append(df_location)\n",
    "    \n",
    "df_samples = pd.concat(all_samples, sort=True)\n",
    "df_samples['in_box'] = df_samples.epc.isin(clean_epcs).astype(int)\n",
    "df_samples.head()"
   ]
  },
  {
   "cell_type": "markdown",
   "metadata": {},
   "source": [
    "## Exploratory Data Analysis\n",
    "\n",
    "### Number of Readings per Location\n",
    "\n",
    "The absolute number of readings is similar for the two locations."
   ]
  },
  {
   "cell_type": "code",
   "execution_count": 6,
   "metadata": {
    "ExecuteTime": {
     "end_time": "2019-12-02T14:24:14.274607Z",
     "start_time": "2019-12-02T14:24:14.121935Z"
    }
   },
   "outputs": [
    {
     "data": {
      "image/png": "[encoded data removed]",
      "text/plain": [
       "<Figure size 432x288 with 1 Axes>"
      ]
     },
     "metadata": {
      "needs_background": "light"
     },
     "output_type": "display_data"
    }
   ],
   "source": [
    "df_samples.groupby('location_id') \\\n",
    "    .size() \\\n",
    "    .plot \\\n",
    "    .bar(rot=0)\n",
    "\n",
    "plt.ylabel('Number of readings')\n",
    "plt.xlabel('Location')\n",
    "plt.title('Number of readings per location')\n",
    "sns.despine()"
   ]
  },
  {
   "cell_type": "markdown",
   "metadata": {},
   "source": [
    "### Number of Unique EPC Codes per Location\n",
    "\n",
    "Location 2 has significantly more unique EPC codes indicating that it is noisier."
   ]
  },
  {
   "cell_type": "code",
   "execution_count": 7,
   "metadata": {
    "ExecuteTime": {
     "end_time": "2019-12-02T14:24:14.442496Z",
     "start_time": "2019-12-02T14:24:14.279050Z"
    }
   },
   "outputs": [
    {
     "data": {
      "text/plain": [
       "location_id\n",
       "samples_location1    320\n",
       "samples_location2    792\n",
       "Name: epc, dtype: int64"
      ]
     },
     "execution_count": 7,
     "metadata": {},
     "output_type": "execute_result"
    }
   ],
   "source": [
    "df_samples.groupby('location_id').epc.nunique()"
   ]
  },
  {
   "cell_type": "markdown",
   "metadata": {},
   "source": [
    "### Distribution of Inside vs. Outside Readings Across Labelsets\n",
    "\n",
    "The relative number of readings of RFID-tags inside/outside a box is similar for labelset 1/2. Labelset 3 has significantly more RFID tags outside of the box."
   ]
  },
  {
   "cell_type": "code",
   "execution_count": 8,
   "metadata": {
    "ExecuteTime": {
     "end_time": "2019-12-02T14:24:14.595310Z",
     "start_time": "2019-12-02T14:24:14.445882Z"
    }
   },
   "outputs": [
    {
     "data": {
      "image/png": "[encoded data removed]",
      "text/plain": [
       "<Figure size 432x288 with 1 Axes>"
      ]
     },
     "metadata": {
      "needs_background": "light"
     },
     "output_type": "display_data"
    }
   ],
   "source": [
    "df_samples.groupby('labelset_id') \\\n",
    "    .in_box \\\n",
    "    .value_counts(normalize=True) \\\n",
    "    .unstack() \\\n",
    "    .rename(columns={0: 'Outside', 1: 'Inside'}) \\\n",
    "    .plot \\\n",
    "    .bar(rot=0)\n",
    "\n",
    "plt.ylabel('Fraction')\n",
    "plt.title('Distribution of inside vs. outside readings across labelsets')\n",
    "plt.legend()\n",
    "sns.despine()"
   ]
  },
  {
   "cell_type": "markdown",
   "metadata": {},
   "source": [
    "### Distribution of Inside vs. Outside Readings Across Locations"
   ]
  },
  {
   "cell_type": "code",
   "execution_count": 9,
   "metadata": {
    "ExecuteTime": {
     "end_time": "2019-12-02T14:24:14.743842Z",
     "start_time": "2019-12-02T14:24:14.598146Z"
    }
   },
   "outputs": [
    {
     "data": {
      "image/png": "[encoded data removed]",
      "text/plain": [
       "<Figure size 432x288 with 1 Axes>"
      ]
     },
     "metadata": {
      "needs_background": "light"
     },
     "output_type": "display_data"
    }
   ],
   "source": [
    "df_samples.groupby('location_id') \\\n",
    "    .in_box \\\n",
    "    .value_counts(normalize=True) \\\n",
    "    .unstack() \\\n",
    "    .rename(columns={0: 'Outside', 1: 'Inside'}) \\\n",
    "    .plot \\\n",
    "    .bar(rot=0)\n",
    "\n",
    "plt.ylabel('Fraction')\n",
    "plt.title('Distribution of readings across locations')\n",
    "plt.legend()\n",
    "sns.despine()"
   ]
  },
  {
   "cell_type": "markdown",
   "metadata": {},
   "source": [
    "### Number of Unique EPC Codes"
   ]
  },
  {
   "cell_type": "code",
   "execution_count": 10,
   "metadata": {
    "ExecuteTime": {
     "end_time": "2019-12-02T14:24:14.765728Z",
     "start_time": "2019-12-02T14:24:14.747277Z"
    }
   },
   "outputs": [
    {
     "data": {
      "text/plain": [
       "1082"
      ]
     },
     "execution_count": 10,
     "metadata": {},
     "output_type": "execute_result"
    }
   ],
   "source": [
    "df_samples.epc.nunique()"
   ]
  },
  {
   "cell_type": "markdown",
   "metadata": {},
   "source": [
    "### Distribution of Number of Readings per EPC Code"
   ]
  },
  {
   "cell_type": "code",
   "execution_count": 11,
   "metadata": {
    "ExecuteTime": {
     "end_time": "2019-12-02T14:24:14.926273Z",
     "start_time": "2019-12-02T14:24:14.768841Z"
    }
   },
   "outputs": [
    {
     "data": {
      "image/png": "[encoded data removed]",
      "text/plain": [
       "<Figure size 432x288 with 1 Axes>"
      ]
     },
     "metadata": {
      "needs_background": "light"
     },
     "output_type": "display_data"
    }
   ],
   "source": [
    "df_samples.groupby('epc')['epc'].count().plot.hist()\n",
    "sns.despine()"
   ]
  },
  {
   "cell_type": "markdown",
   "metadata": {},
   "source": [
    "## Train/Test Split\n",
    "\n",
    "We split the data into train/test by `location_id`."
   ]
  },
  {
   "cell_type": "code",
   "execution_count": 12,
   "metadata": {
    "ExecuteTime": {
     "end_time": "2019-12-02T14:24:14.989656Z",
     "start_time": "2019-12-02T14:24:14.928848Z"
    }
   },
   "outputs": [
    {
     "name": "stdout",
     "output_type": "stream",
     "text": [
      "Samples train: 71271\n",
      "Samples test: 76783\n"
     ]
    }
   ],
   "source": [
    "df_train = df_samples[df_samples.location_id == 'samples_location1'].copy()\n",
    "df_test = df_samples[df_samples.location_id == 'samples_location2'].copy()\n",
    "\n",
    "print('Samples train: {}'.format(len(df_train)))\n",
    "print('Samples test: {}'.format(len(df_test)))"
   ]
  },
  {
   "cell_type": "code",
   "execution_count": 13,
   "metadata": {
    "ExecuteTime": {
     "end_time": "2019-12-02T14:24:15.007074Z",
     "start_time": "2019-12-02T14:24:14.991919Z"
    }
   },
   "outputs": [
    {
     "data": {
      "text/html": [
       "<div>\n",
       "<style scoped>\n",
       "    .dataframe tbody tr th:only-of-type {\n",
       "        vertical-align: middle;\n",
       "    }\n",
       "\n",
       "    .dataframe tbody tr th {\n",
       "        vertical-align: top;\n",
       "    }\n",
       "\n",
       "    .dataframe thead th {\n",
       "        text-align: right;\n",
       "    }\n",
       "</style>\n",
       "<table border=\"1\" class=\"dataframe\">\n",
       "  <thead>\n",
       "    <tr style=\"text-align: right;\">\n",
       "      <th></th>\n",
       "      <th>beam_id</th>\n",
       "      <th>epc</th>\n",
       "      <th>frequency</th>\n",
       "      <th>in_box</th>\n",
       "      <th>labelset_id</th>\n",
       "      <th>location_id</th>\n",
       "      <th>phase</th>\n",
       "      <th>rssi</th>\n",
       "      <th>sample_id</th>\n",
       "      <th>time</th>\n",
       "    </tr>\n",
       "  </thead>\n",
       "  <tbody>\n",
       "    <tr>\n",
       "      <th>0</th>\n",
       "      <td>0</td>\n",
       "      <td>30347A12301D8FC59682FEFA</td>\n",
       "      <td>866900000</td>\n",
       "      <td>0</td>\n",
       "      <td>labelset3</td>\n",
       "      <td>samples_location1</td>\n",
       "      <td>15</td>\n",
       "      <td>-649</td>\n",
       "      <td>sample4</td>\n",
       "      <td>1.572351e+09</td>\n",
       "    </tr>\n",
       "    <tr>\n",
       "      <th>1</th>\n",
       "      <td>0</td>\n",
       "      <td>30347A12301D87C59682FF25</td>\n",
       "      <td>866900000</td>\n",
       "      <td>0</td>\n",
       "      <td>labelset3</td>\n",
       "      <td>samples_location1</td>\n",
       "      <td>55</td>\n",
       "      <td>-687</td>\n",
       "      <td>sample4</td>\n",
       "      <td>1.572351e+09</td>\n",
       "    </tr>\n",
       "  </tbody>\n",
       "</table>\n",
       "</div>"
      ],
      "text/plain": [
       "   beam_id                       epc  frequency  in_box labelset_id  \\\n",
       "0        0  30347A12301D8FC59682FEFA  866900000       0   labelset3   \n",
       "1        0  30347A12301D87C59682FF25  866900000       0   labelset3   \n",
       "\n",
       "         location_id  phase  rssi sample_id          time  \n",
       "0  samples_location1     15  -649   sample4  1.572351e+09  \n",
       "1  samples_location1     55  -687   sample4  1.572351e+09  "
      ]
     },
     "execution_count": 13,
     "metadata": {},
     "output_type": "execute_result"
    }
   ],
   "source": [
    "df_train.head(2)"
   ]
  },
  {
   "cell_type": "code",
   "execution_count": 14,
   "metadata": {
    "ExecuteTime": {
     "end_time": "2019-12-02T14:24:15.026302Z",
     "start_time": "2019-12-02T14:24:15.010574Z"
    }
   },
   "outputs": [
    {
     "data": {
      "text/html": [
       "<div>\n",
       "<style scoped>\n",
       "    .dataframe tbody tr th:only-of-type {\n",
       "        vertical-align: middle;\n",
       "    }\n",
       "\n",
       "    .dataframe tbody tr th {\n",
       "        vertical-align: top;\n",
       "    }\n",
       "\n",
       "    .dataframe thead th {\n",
       "        text-align: right;\n",
       "    }\n",
       "</style>\n",
       "<table border=\"1\" class=\"dataframe\">\n",
       "  <thead>\n",
       "    <tr style=\"text-align: right;\">\n",
       "      <th></th>\n",
       "      <th>beam_id</th>\n",
       "      <th>epc</th>\n",
       "      <th>frequency</th>\n",
       "      <th>in_box</th>\n",
       "      <th>labelset_id</th>\n",
       "      <th>location_id</th>\n",
       "      <th>phase</th>\n",
       "      <th>rssi</th>\n",
       "      <th>sample_id</th>\n",
       "      <th>time</th>\n",
       "    </tr>\n",
       "  </thead>\n",
       "  <tbody>\n",
       "    <tr>\n",
       "      <th>0</th>\n",
       "      <td>0</td>\n",
       "      <td>E28011700000020D350CABCF</td>\n",
       "      <td>866900000</td>\n",
       "      <td>1</td>\n",
       "      <td>labelset3</td>\n",
       "      <td>samples_location2</td>\n",
       "      <td>18</td>\n",
       "      <td>-687</td>\n",
       "      <td>sample4</td>\n",
       "      <td>1.572351e+09</td>\n",
       "    </tr>\n",
       "    <tr>\n",
       "      <th>1</th>\n",
       "      <td>0</td>\n",
       "      <td>E28011700000020D350CE1BE</td>\n",
       "      <td>866900000</td>\n",
       "      <td>1</td>\n",
       "      <td>labelset3</td>\n",
       "      <td>samples_location2</td>\n",
       "      <td>29</td>\n",
       "      <td>-609</td>\n",
       "      <td>sample4</td>\n",
       "      <td>1.572351e+09</td>\n",
       "    </tr>\n",
       "  </tbody>\n",
       "</table>\n",
       "</div>"
      ],
      "text/plain": [
       "   beam_id                       epc  frequency  in_box labelset_id  \\\n",
       "0        0  E28011700000020D350CABCF  866900000       1   labelset3   \n",
       "1        0  E28011700000020D350CE1BE  866900000       1   labelset3   \n",
       "\n",
       "         location_id  phase  rssi sample_id          time  \n",
       "0  samples_location2     18  -687   sample4  1.572351e+09  \n",
       "1  samples_location2     29  -609   sample4  1.572351e+09  "
      ]
     },
     "execution_count": 14,
     "metadata": {},
     "output_type": "execute_result"
    }
   ],
   "source": [
    "df_test.head(2)"
   ]
  },
  {
   "cell_type": "markdown",
   "metadata": {},
   "source": [
    "## Feature Engineering"
   ]
  },
  {
   "cell_type": "markdown",
   "metadata": {},
   "source": [
    "### Extract Features"
   ]
  },
  {
   "cell_type": "code",
   "execution_count": 15,
   "metadata": {
    "ExecuteTime": {
     "end_time": "2019-12-02T14:24:15.036761Z",
     "start_time": "2019-12-02T14:24:15.030241Z"
    }
   },
   "outputs": [],
   "source": [
    "def q80(x):\n",
    "    return pd.Series.quantile(x, q=0.8)\n",
    "\n",
    "def q20(x):\n",
    "    return pd.Series.quantile(x, q=0.2)\n",
    "\n",
    "def extract_features(df):\n",
    "    agg = df.groupby('epc').agg(\n",
    "        max_rssi=('rssi','max'),\n",
    "        min_rssi=('rssi','min'),\n",
    "        number_observations=('rssi','count'),\n",
    "        median_rssi=('rssi', 'median'),\n",
    "        quantile80_rssi=('rssi', q80),\n",
    "        quantile20_rssi=('rssi', q20),\n",
    "    )\n",
    "    \n",
    "    return agg"
   ]
  },
  {
   "cell_type": "code",
   "execution_count": 16,
   "metadata": {
    "ExecuteTime": {
     "end_time": "2019-12-02T14:24:15.538459Z",
     "start_time": "2019-12-02T14:24:15.049234Z"
    }
   },
   "outputs": [
    {
     "data": {
      "text/html": [
       "<div>\n",
       "<style scoped>\n",
       "    .dataframe tbody tr th:only-of-type {\n",
       "        vertical-align: middle;\n",
       "    }\n",
       "\n",
       "    .dataframe tbody tr th {\n",
       "        vertical-align: top;\n",
       "    }\n",
       "\n",
       "    .dataframe thead th {\n",
       "        text-align: right;\n",
       "    }\n",
       "</style>\n",
       "<table border=\"1\" class=\"dataframe\">\n",
       "  <thead>\n",
       "    <tr style=\"text-align: right;\">\n",
       "      <th></th>\n",
       "      <th>max_rssi</th>\n",
       "      <th>min_rssi</th>\n",
       "      <th>number_observations</th>\n",
       "      <th>median_rssi</th>\n",
       "      <th>quantile80_rssi</th>\n",
       "      <th>quantile20_rssi</th>\n",
       "    </tr>\n",
       "    <tr>\n",
       "      <th>epc</th>\n",
       "      <th></th>\n",
       "      <th></th>\n",
       "      <th></th>\n",
       "      <th></th>\n",
       "      <th></th>\n",
       "      <th></th>\n",
       "    </tr>\n",
       "  </thead>\n",
       "  <tbody>\n",
       "    <tr>\n",
       "      <th>30347A12301D51459682FF61</th>\n",
       "      <td>-649</td>\n",
       "      <td>-814</td>\n",
       "      <td>143</td>\n",
       "      <td>-729.0</td>\n",
       "      <td>-701.0</td>\n",
       "      <td>-754.0</td>\n",
       "    </tr>\n",
       "    <tr>\n",
       "      <th>30347A12301D52459682FF65</th>\n",
       "      <td>-620</td>\n",
       "      <td>-795</td>\n",
       "      <td>366</td>\n",
       "      <td>-701.0</td>\n",
       "      <td>-680.0</td>\n",
       "      <td>-729.0</td>\n",
       "    </tr>\n",
       "    <tr>\n",
       "      <th>30347A12301D52859682FF78</th>\n",
       "      <td>-598</td>\n",
       "      <td>-830</td>\n",
       "      <td>1145</td>\n",
       "      <td>-680.0</td>\n",
       "      <td>-641.0</td>\n",
       "      <td>-719.0</td>\n",
       "    </tr>\n",
       "    <tr>\n",
       "      <th>30347A12301D52C59682FF77</th>\n",
       "      <td>-747</td>\n",
       "      <td>-747</td>\n",
       "      <td>1</td>\n",
       "      <td>-747.0</td>\n",
       "      <td>-747.0</td>\n",
       "      <td>-747.0</td>\n",
       "    </tr>\n",
       "    <tr>\n",
       "      <th>30347A12301D53059682FF76</th>\n",
       "      <td>-687</td>\n",
       "      <td>-719</td>\n",
       "      <td>4</td>\n",
       "      <td>-701.0</td>\n",
       "      <td>-695.4</td>\n",
       "      <td>-708.2</td>\n",
       "    </tr>\n",
       "    <tr>\n",
       "      <th>...</th>\n",
       "      <td>...</td>\n",
       "      <td>...</td>\n",
       "      <td>...</td>\n",
       "      <td>...</td>\n",
       "      <td>...</td>\n",
       "      <td>...</td>\n",
       "    </tr>\n",
       "    <tr>\n",
       "      <th>E2806894000050020364F08D</th>\n",
       "      <td>-358</td>\n",
       "      <td>-779</td>\n",
       "      <td>981</td>\n",
       "      <td>-478.0</td>\n",
       "      <td>-440.0</td>\n",
       "      <td>-538.0</td>\n",
       "    </tr>\n",
       "    <tr>\n",
       "      <th>E2806894000050020364FC8D</th>\n",
       "      <td>-313</td>\n",
       "      <td>-719</td>\n",
       "      <td>939</td>\n",
       "      <td>-506.0</td>\n",
       "      <td>-469.0</td>\n",
       "      <td>-566.0</td>\n",
       "    </tr>\n",
       "    <tr>\n",
       "      <th>E2806894000050020365048D</th>\n",
       "      <td>-308</td>\n",
       "      <td>-807</td>\n",
       "      <td>983</td>\n",
       "      <td>-488.0</td>\n",
       "      <td>-446.0</td>\n",
       "      <td>-548.0</td>\n",
       "    </tr>\n",
       "    <tr>\n",
       "      <th>E2806894000050020365088D</th>\n",
       "      <td>-373</td>\n",
       "      <td>-754</td>\n",
       "      <td>889</td>\n",
       "      <td>-554.0</td>\n",
       "      <td>-478.0</td>\n",
       "      <td>-620.0</td>\n",
       "    </tr>\n",
       "    <tr>\n",
       "      <th>E2806894000050020365108D</th>\n",
       "      <td>-326</td>\n",
       "      <td>-747</td>\n",
       "      <td>995</td>\n",
       "      <td>-494.0</td>\n",
       "      <td>-418.0</td>\n",
       "      <td>-548.0</td>\n",
       "    </tr>\n",
       "  </tbody>\n",
       "</table>\n",
       "<p>320 rows × 6 columns</p>\n",
       "</div>"
      ],
      "text/plain": [
       "                          max_rssi  min_rssi  number_observations  \\\n",
       "epc                                                                 \n",
       "30347A12301D51459682FF61      -649      -814                  143   \n",
       "30347A12301D52459682FF65      -620      -795                  366   \n",
       "30347A12301D52859682FF78      -598      -830                 1145   \n",
       "30347A12301D52C59682FF77      -747      -747                    1   \n",
       "30347A12301D53059682FF76      -687      -719                    4   \n",
       "...                            ...       ...                  ...   \n",
       "E2806894000050020364F08D      -358      -779                  981   \n",
       "E2806894000050020364FC8D      -313      -719                  939   \n",
       "E2806894000050020365048D      -308      -807                  983   \n",
       "E2806894000050020365088D      -373      -754                  889   \n",
       "E2806894000050020365108D      -326      -747                  995   \n",
       "\n",
       "                          median_rssi  quantile80_rssi  quantile20_rssi  \n",
       "epc                                                                      \n",
       "30347A12301D51459682FF61       -729.0           -701.0           -754.0  \n",
       "30347A12301D52459682FF65       -701.0           -680.0           -729.0  \n",
       "30347A12301D52859682FF78       -680.0           -641.0           -719.0  \n",
       "30347A12301D52C59682FF77       -747.0           -747.0           -747.0  \n",
       "30347A12301D53059682FF76       -701.0           -695.4           -708.2  \n",
       "...                               ...              ...              ...  \n",
       "E2806894000050020364F08D       -478.0           -440.0           -538.0  \n",
       "E2806894000050020364FC8D       -506.0           -469.0           -566.0  \n",
       "E2806894000050020365048D       -488.0           -446.0           -548.0  \n",
       "E2806894000050020365088D       -554.0           -478.0           -620.0  \n",
       "E2806894000050020365108D       -494.0           -418.0           -548.0  \n",
       "\n",
       "[320 rows x 6 columns]"
      ]
     },
     "execution_count": 16,
     "metadata": {},
     "output_type": "execute_result"
    }
   ],
   "source": [
    "extract_features(df_train)"
   ]
  },
  {
   "cell_type": "code",
   "execution_count": 17,
   "metadata": {
    "ExecuteTime": {
     "end_time": "2019-12-02T14:24:17.102584Z",
     "start_time": "2019-12-02T14:24:15.542664Z"
    }
   },
   "outputs": [],
   "source": [
    "df_train_features = extract_features(df_train)\n",
    "\n",
    "X_train = df_train_features.values\n",
    "y_train = df_train_features.index.isin(clean_epcs).astype(int)\n",
    "\n",
    "df_test_features = extract_features(df_test)\n",
    "\n",
    "X_test = df_test_features.values\n",
    "y_test = df_test_features.index.isin(clean_epcs).astype(int)\n",
    "\n",
    "CLASS_NAMES = np.array(['Outside', 'Inside'])"
   ]
  },
  {
   "cell_type": "markdown",
   "metadata": {},
   "source": [
    "### Visualize `max(RSSI)` vs. `min(RSSI)`"
   ]
  },
  {
   "cell_type": "markdown",
   "metadata": {},
   "source": [
    "We can see that a simple classifier with two features should already do reasonably well. "
   ]
  },
  {
   "cell_type": "code",
   "execution_count": 18,
   "metadata": {
    "ExecuteTime": {
     "end_time": "2019-12-02T14:24:17.111302Z",
     "start_time": "2019-12-02T14:24:17.104532Z"
    }
   },
   "outputs": [],
   "source": [
    "c1 = df_train_features.iloc[np.where(y_train == 0)]\n",
    "c2 = df_train_features.iloc[np.where(y_train == 1)]"
   ]
  },
  {
   "cell_type": "code",
   "execution_count": 19,
   "metadata": {
    "ExecuteTime": {
     "end_time": "2019-12-02T14:24:17.288731Z",
     "start_time": "2019-12-02T14:24:17.114702Z"
    }
   },
   "outputs": [
    {
     "data": {
      "text/plain": [
       "Text(0, 0.5, 'min_rssi')"
      ]
     },
     "execution_count": 19,
     "metadata": {},
     "output_type": "execute_result"
    },
    {
     "data": {
      "image/png": "[encoded data removed]",
      "text/plain": [
       "<Figure size 432x288 with 1 Axes>"
      ]
     },
     "metadata": {
      "needs_background": "light"
     },
     "output_type": "display_data"
    }
   ],
   "source": [
    "plt.scatter(c1['max_rssi'], c1['min_rssi'], c='b')\n",
    "plt.scatter(c2['max_rssi'], c2['min_rssi'], c='r')\n",
    "plt.xlabel('max_rssi')\n",
    "plt.ylabel('min_rssi')"
   ]
  },
  {
   "cell_type": "markdown",
   "metadata": {},
   "source": [
    "### Scaling"
   ]
  },
  {
   "cell_type": "code",
   "execution_count": 20,
   "metadata": {
    "ExecuteTime": {
     "end_time": "2019-12-02T14:24:17.301648Z",
     "start_time": "2019-12-02T14:24:17.291304Z"
    }
   },
   "outputs": [],
   "source": [
    "min_max_scaler = preprocessing.MinMaxScaler()\n",
    "X_train = min_max_scaler.fit_transform(X_train)\n",
    "X_test = min_max_scaler.transform(X_test)"
   ]
  },
  {
   "cell_type": "markdown",
   "metadata": {},
   "source": [
    "## Modeling + Classification"
   ]
  },
  {
   "cell_type": "markdown",
   "metadata": {},
   "source": [
    "### Most-frequent Baseline"
   ]
  },
  {
   "cell_type": "code",
   "execution_count": 21,
   "metadata": {
    "ExecuteTime": {
     "end_time": "2019-12-02T14:24:17.317435Z",
     "start_time": "2019-12-02T14:24:17.305248Z"
    }
   },
   "outputs": [],
   "source": [
    "clf = DummyClassifier(strategy='most_frequent', random_state=0)\n",
    "clf.fit(X_train, y_train)\n",
    "y_pred_test = clf.predict(X_test)"
   ]
  },
  {
   "cell_type": "code",
   "execution_count": 22,
   "metadata": {
    "ExecuteTime": {
     "end_time": "2019-12-02T14:24:17.514949Z",
     "start_time": "2019-12-02T14:24:17.326890Z"
    }
   },
   "outputs": [
    {
     "name": "stdout",
     "output_type": "stream",
     "text": [
      "              precision    recall  f1-score   support\n",
      "\n",
      "     Outside     0.9621    1.0000    0.9807       762\n",
      "      Inside     0.0000    0.0000    0.0000        30\n",
      "\n",
      "    accuracy                         0.9621       792\n",
      "   macro avg     0.4811    0.5000    0.4903       792\n",
      "weighted avg     0.9257    0.9621    0.9435       792\n",
      "\n"
     ]
    },
    {
     "data": {
      "image/png": "[encoded data removed]",
      "text/plain": [
       "<Figure size 432x288 with 2 Axes>"
      ]
     },
     "metadata": {
      "needs_background": "light"
     },
     "output_type": "display_data"
    }
   ],
   "source": [
    "evaluate(y_test, y_pred_test, class_names=CLASS_NAMES)"
   ]
  },
  {
   "cell_type": "markdown",
   "metadata": {},
   "source": [
    "### Logistic Regression"
   ]
  },
  {
   "cell_type": "code",
   "execution_count": 23,
   "metadata": {
    "ExecuteTime": {
     "end_time": "2019-12-02T14:24:17.535000Z",
     "start_time": "2019-12-02T14:24:17.519137Z"
    }
   },
   "outputs": [],
   "source": [
    "clf = LogisticRegression(solver='lbfgs').fit(X_train, y_train)\n",
    "y_pred_test = clf.predict(X_test)"
   ]
  },
  {
   "cell_type": "code",
   "execution_count": 24,
   "metadata": {
    "ExecuteTime": {
     "end_time": "2019-12-02T14:24:17.724013Z",
     "start_time": "2019-12-02T14:24:17.541444Z"
    }
   },
   "outputs": [
    {
     "name": "stdout",
     "output_type": "stream",
     "text": [
      "              precision    recall  f1-score   support\n",
      "\n",
      "     Outside     0.9870    1.0000    0.9935       762\n",
      "      Inside     1.0000    0.6667    0.8000        30\n",
      "\n",
      "    accuracy                         0.9874       792\n",
      "   macro avg     0.9935    0.8333    0.8967       792\n",
      "weighted avg     0.9875    0.9874    0.9862       792\n",
      "\n"
     ]
    },
    {
     "data": {
      "image/png": "[encoded data removed]",
      "text/plain": [
       "<Figure size 432x288 with 2 Axes>"
      ]
     },
     "metadata": {
      "needs_background": "light"
     },
     "output_type": "display_data"
    }
   ],
   "source": [
    "evaluate(y_test, y_pred_test, class_names=CLASS_NAMES)"
   ]
  },
  {
   "cell_type": "markdown",
   "metadata": {},
   "source": [
    "### Inspect Feature Importance"
   ]
  },
  {
   "cell_type": "code",
   "execution_count": 25,
   "metadata": {
    "ExecuteTime": {
     "end_time": "2019-12-02T14:24:17.784913Z",
     "start_time": "2019-12-02T14:24:17.727605Z"
    }
   },
   "outputs": [
    {
     "data": {
      "text/html": [
       "\n",
       "    <style>\n",
       "    table.eli5-weights tr:hover {\n",
       "        filter: brightness(85%);\n",
       "    }\n",
       "</style>\n",
       "\n",
       "\n",
       "\n",
       "    \n",
       "\n",
       "    \n",
       "\n",
       "    \n",
       "\n",
       "    \n",
       "\n",
       "    \n",
       "\n",
       "    \n",
       "\n",
       "\n",
       "    \n",
       "\n",
       "    \n",
       "\n",
       "    \n",
       "\n",
       "    \n",
       "        \n",
       "\n",
       "    \n",
       "\n",
       "        \n",
       "            \n",
       "                \n",
       "                \n",
       "    \n",
       "        <p style=\"margin-bottom: 0.5em; margin-top: 0em\">\n",
       "            <b>\n",
       "    \n",
       "        y=Inside\n",
       "    \n",
       "</b>\n",
       "\n",
       "top features\n",
       "        </p>\n",
       "    \n",
       "    <table class=\"eli5-weights\"\n",
       "           style=\"border-collapse: collapse; border: none; margin-top: 0em; table-layout: auto; margin-bottom: 2em;\">\n",
       "        <thead>\n",
       "        <tr style=\"border: none;\">\n",
       "            \n",
       "                <th style=\"padding: 0 1em 0 0.5em; text-align: right; border: none;\" title=\"Feature weights. Note that weights do not account for feature value scales, so if feature values have different scales, features with highest weights might not be the most important.\">\n",
       "                    Weight<sup>?</sup>\n",
       "                </th>\n",
       "            \n",
       "            <th style=\"padding: 0 0.5em 0 0.5em; text-align: left; border: none;\">Feature</th>\n",
       "            \n",
       "        </tr>\n",
       "        </thead>\n",
       "        <tbody>\n",
       "        \n",
       "            <tr style=\"background-color: hsl(120, 100.00%, 87.52%); border: none;\">\n",
       "    <td style=\"padding: 0 1em 0 0.5em; text-align: right; border: none;\">\n",
       "        +2.652\n",
       "    </td>\n",
       "    <td style=\"padding: 0 0.5em 0 0.5em; text-align: left; border: none;\">\n",
       "        max_rssi\n",
       "    </td>\n",
       "    \n",
       "</tr>\n",
       "        \n",
       "            <tr style=\"background-color: hsl(120, 100.00%, 88.75%); border: none;\">\n",
       "    <td style=\"padding: 0 1em 0 0.5em; text-align: right; border: none;\">\n",
       "        +2.286\n",
       "    </td>\n",
       "    <td style=\"padding: 0 0.5em 0 0.5em; text-align: left; border: none;\">\n",
       "        quantile80_rssi\n",
       "    </td>\n",
       "    \n",
       "</tr>\n",
       "        \n",
       "            <tr style=\"background-color: hsl(120, 100.00%, 90.10%); border: none;\">\n",
       "    <td style=\"padding: 0 1em 0 0.5em; text-align: right; border: none;\">\n",
       "        +1.905\n",
       "    </td>\n",
       "    <td style=\"padding: 0 0.5em 0 0.5em; text-align: left; border: none;\">\n",
       "        median_rssi\n",
       "    </td>\n",
       "    \n",
       "</tr>\n",
       "        \n",
       "            <tr style=\"background-color: hsl(120, 100.00%, 92.12%); border: none;\">\n",
       "    <td style=\"padding: 0 1em 0 0.5em; text-align: right; border: none;\">\n",
       "        +1.376\n",
       "    </td>\n",
       "    <td style=\"padding: 0 0.5em 0 0.5em; text-align: left; border: none;\">\n",
       "        number_observations\n",
       "    </td>\n",
       "    \n",
       "</tr>\n",
       "        \n",
       "            <tr style=\"background-color: hsl(120, 100.00%, 92.34%); border: none;\">\n",
       "    <td style=\"padding: 0 1em 0 0.5em; text-align: right; border: none;\">\n",
       "        +1.320\n",
       "    </td>\n",
       "    <td style=\"padding: 0 0.5em 0 0.5em; text-align: left; border: none;\">\n",
       "        quantile20_rssi\n",
       "    </td>\n",
       "    \n",
       "</tr>\n",
       "        \n",
       "        \n",
       "\n",
       "        \n",
       "        \n",
       "            <tr style=\"background-color: hsl(0, 100.00%, 95.17%); border: none;\">\n",
       "    <td style=\"padding: 0 1em 0 0.5em; text-align: right; border: none;\">\n",
       "        -0.684\n",
       "    </td>\n",
       "    <td style=\"padding: 0 0.5em 0 0.5em; text-align: left; border: none;\">\n",
       "        min_rssi\n",
       "    </td>\n",
       "    \n",
       "</tr>\n",
       "        \n",
       "            <tr style=\"background-color: hsl(0, 100.00%, 80.00%); border: none;\">\n",
       "    <td style=\"padding: 0 1em 0 0.5em; text-align: right; border: none;\">\n",
       "        -5.203\n",
       "    </td>\n",
       "    <td style=\"padding: 0 0.5em 0 0.5em; text-align: left; border: none;\">\n",
       "        &lt;BIAS&gt;\n",
       "    </td>\n",
       "    \n",
       "</tr>\n",
       "        \n",
       "\n",
       "        </tbody>\n",
       "    </table>\n",
       "\n",
       "            \n",
       "        \n",
       "\n",
       "        \n",
       "\n",
       "\n",
       "\n",
       "    \n",
       "\n",
       "    \n",
       "\n",
       "    \n",
       "\n",
       "    \n",
       "\n",
       "\n",
       "    \n",
       "\n",
       "    \n",
       "\n",
       "    \n",
       "\n",
       "    \n",
       "\n",
       "    \n",
       "\n",
       "    \n",
       "\n",
       "\n",
       "    \n",
       "\n",
       "    \n",
       "\n",
       "    \n",
       "\n",
       "    \n",
       "\n",
       "    \n",
       "\n",
       "    \n",
       "\n",
       "\n",
       "\n"
      ],
      "text/plain": [
       "<IPython.core.display.HTML object>"
      ]
     },
     "execution_count": 25,
     "metadata": {},
     "output_type": "execute_result"
    }
   ],
   "source": [
    "eli5.show_weights(clf, feature_names=df_train_features.columns.values, target_names=CLASS_NAMES)"
   ]
  }
 ],
 "metadata": {
  "hide_input": false,
  "kernelspec": {
   "display_name": "Python (rfidtags)",
   "language": "python",
   "name": "rfidtags"
  },
  "language_info": {
   "codemirror_mode": {
    "name": "ipython",
    "version": 3
   },
   "file_extension": ".py",
   "mimetype": "text/x-python",
   "name": "python",
   "nbconvert_exporter": "python",
   "pygments_lexer": "ipython3",
   "version": "3.7.3"
  },
  "toc": {
   "base_numbering": "1",
   "nav_menu": {},
   "number_sections": true,
   "sideBar": true,
   "skip_h1_title": true,
   "title_cell": "Table of Contents",
   "title_sidebar": "Contents",
   "toc_cell": true,
   "toc_position": {
    "height": "calc(100% - 180px)",
    "left": "10px",
    "top": "150px",
    "width": "521px"
   },
   "toc_section_display": true,
   "toc_window_display": true
  }
 },
 "nbformat": 4,
 "nbformat_minor": 2
}
